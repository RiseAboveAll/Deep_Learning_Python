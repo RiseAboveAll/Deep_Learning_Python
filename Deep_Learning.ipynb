{
  "nbformat": 4,
  "nbformat_minor": 0,
  "metadata": {
    "colab": {
      "name": "Deep-Learning.ipynb",
      "provenance": [],
      "authorship_tag": "ABX9TyMdtnlmH1MEE6zT0D2TGN55",
      "include_colab_link": true
    },
    "kernelspec": {
      "name": "python3",
      "display_name": "Python 3"
    },
    "accelerator": "GPU"
  },
  "cells": [
    {
      "cell_type": "markdown",
      "metadata": {
        "id": "view-in-github",
        "colab_type": "text"
      },
      "source": [
        "<a href=\"https://colab.research.google.com/github/RiseAboveAll/Deep_Learning_Python/blob/master/Deep_Learning.ipynb\" target=\"_parent\"><img src=\"https://colab.research.google.com/assets/colab-badge.svg\" alt=\"Open In Colab\"/></a>"
      ]
    },
    {
      "cell_type": "markdown",
      "metadata": {
        "id": "M7xxzDACRnR2",
        "colab_type": "text"
      },
      "source": [
        "# Introduction"
      ]
    },
    {
      "cell_type": "markdown",
      "metadata": {
        "id": "GJPkoooGHQWn",
        "colab_type": "text"
      },
      "source": [
        "<h2>Machine Learning</h2>\n",
        "\n",
        "- Discovers rules to execute a data processing task.  It learns useful representations of input data which get closure to expected output.\n",
        "\n",
        "- Search for useful representations of some input data, within a predefined space of possibilities,using guidance from a feedback signal.\n",
        "\n",
        "- Maps inputs to targets, observing examples.\n"
      ]
    },
    {
      "cell_type": "markdown",
      "metadata": {
        "id": "Eyzvbxw-V0ua",
        "colab_type": "text"
      },
      "source": [
        "<h2>Deep Learning</h2>\n",
        "\n",
        "- Learns representations from data that put an emphasis on leaning successive layers.\n",
        "\n",
        "-  Deep in Deep Learning stands for successive layers of representations, i.e number of layers used to contribute to a model.\n",
        "\n",
        "-  Layer representations are learned via neural networks, structured in layers stacked on top of each other.\n",
        "\n",
        "-  Neural network transforms the image into representations that are increasingly different from the orignal image and informative about the final result.\n",
        "\n",
        "-  What transformation does a layer do to its input data is stored in the layers weights, i.e transformation implemented by a layer is parameterized by its weights. Learning means finding a set of values for the weights of all layers in a network such that the network correctly maps inputs to targets.\n",
        "\n",
        "\n",
        "- We need to observe how far the predicted output is from actual. This is done via loss function. Loss function calculate the distance score between the predicted and actual target variable and is termed as cost or score.\n",
        "\n",
        "- This score is used as feedback signal to adjust the value of weights in direction which will lower the loss score. This is implemented by the optimizer.\n",
        "\n",
        "- Initially weights assigned are random. But with every example the network process, weights are adjusted in the direction , where the loss score is minimum."
      ]
    },
    {
      "cell_type": "markdown",
      "metadata": {
        "id": "5isd35OrJk-0",
        "colab_type": "text"
      },
      "source": [
        "# Libraries"
      ]
    },
    {
      "cell_type": "code",
      "metadata": {
        "id": "w_Ey5mnmG_gN",
        "colab_type": "code",
        "colab": {
          "base_uri": "https://localhost:8080/",
          "height": 115
        },
        "outputId": "787d00bd-f35f-4229-9083-074fff46e466"
      },
      "source": [
        "!pip3 install keras"
      ],
      "execution_count": null,
      "outputs": [
        {
          "output_type": "stream",
          "text": [
            "Requirement already satisfied: keras in /usr/local/lib/python3.6/dist-packages (2.4.3)\n",
            "Requirement already satisfied: scipy>=0.14 in /usr/local/lib/python3.6/dist-packages (from keras) (1.4.1)\n",
            "Requirement already satisfied: numpy>=1.9.1 in /usr/local/lib/python3.6/dist-packages (from keras) (1.18.5)\n",
            "Requirement already satisfied: pyyaml in /usr/local/lib/python3.6/dist-packages (from keras) (3.13)\n",
            "Requirement already satisfied: h5py in /usr/local/lib/python3.6/dist-packages (from keras) (2.10.0)\n",
            "Requirement already satisfied: six in /usr/local/lib/python3.6/dist-packages (from h5py->keras) (1.15.0)\n"
          ],
          "name": "stdout"
        }
      ]
    },
    {
      "cell_type": "code",
      "metadata": {
        "id": "8bRAFN2DTvft",
        "colab_type": "code",
        "colab": {}
      },
      "source": [
        "from keras.datasets import mnist\n",
        "from keras import models,layers\n",
        "from keras.utils import to_categorical\n",
        "import numpy as np\n",
        "import matplotlib.pyplot as plt\n"
      ],
      "execution_count": null,
      "outputs": []
    },
    {
      "cell_type": "markdown",
      "metadata": {
        "id": "7-J3VnC_uI3S",
        "colab_type": "text"
      },
      "source": [
        "# Mathematical Building Blocks of Neural Networks"
      ]
    },
    {
      "cell_type": "markdown",
      "metadata": {
        "id": "GwidjaC7Rz9F",
        "colab_type": "text"
      },
      "source": [
        "Example : Classify Greyscale images of handwritten digits (28x28) into 10 categories. "
      ]
    },
    {
      "cell_type": "markdown",
      "metadata": {
        "id": "56QDLlIyT232",
        "colab_type": "text"
      },
      "source": [
        "<h3> Loading Dataset </h3>"
      ]
    },
    {
      "cell_type": "code",
      "metadata": {
        "id": "jlcClva2T1Xv",
        "colab_type": "code",
        "colab": {}
      },
      "source": [
        "(train_images,train_labels),(test_images,test_labels)=mnist.load_data()"
      ],
      "execution_count": null,
      "outputs": []
    },
    {
      "cell_type": "code",
      "metadata": {
        "id": "TL7Ipt1XUJlc",
        "colab_type": "code",
        "colab": {
          "base_uri": "https://localhost:8080/",
          "height": 33
        },
        "outputId": "3d9e1aee-f326-4b19-fb80-eda8205684dc"
      },
      "source": [
        "train_images.shape"
      ],
      "execution_count": null,
      "outputs": [
        {
          "output_type": "execute_result",
          "data": {
            "text/plain": [
              "(60000, 28, 28)"
            ]
          },
          "metadata": {
            "tags": []
          },
          "execution_count": 5
        }
      ]
    },
    {
      "cell_type": "code",
      "metadata": {
        "id": "4fEhDmYOUUbB",
        "colab_type": "code",
        "colab": {
          "base_uri": "https://localhost:8080/",
          "height": 33
        },
        "outputId": "ac5681a0-66eb-486f-9d6e-1ba323c7f98d"
      },
      "source": [
        "len(train_labels)"
      ],
      "execution_count": null,
      "outputs": [
        {
          "output_type": "execute_result",
          "data": {
            "text/plain": [
              "60000"
            ]
          },
          "metadata": {
            "tags": []
          },
          "execution_count": 6
        }
      ]
    },
    {
      "cell_type": "markdown",
      "metadata": {
        "id": "0h7EVvitUfyK",
        "colab_type": "text"
      },
      "source": [
        "<h3> Model Workflow :</h3>\n",
        "\n",
        "- Feead neural network the training data\n",
        "\n",
        "- Network will associate images and labels\n",
        "\n",
        "- Network will predict"
      ]
    },
    {
      "cell_type": "markdown",
      "metadata": {
        "id": "Y4QEDshZWgoh",
        "colab_type": "text"
      },
      "source": [
        "<h3> Network Architecture </h3>"
      ]
    },
    {
      "cell_type": "code",
      "metadata": {
        "id": "7kVEEI6PUW2Y",
        "colab_type": "code",
        "colab": {}
      },
      "source": [
        "network=models.Sequential()\n",
        "network.add(layers.Dense(512,activation='relu',input_shape=(28*28,)))\n",
        "network.add(layers.Dense(10,activation='softmax'))\n"
      ],
      "execution_count": null,
      "outputs": []
    },
    {
      "cell_type": "markdown",
      "metadata": {
        "id": "Yu2MY3eBZWLg",
        "colab_type": "text"
      },
      "source": [
        "Building block of neural networks is the layer. It extracts representations out of the data fed into them .\n",
        "\n",
        "Here, network consist of two dense layers (fully conncected network). To make network fnctional, we need to pick :\n",
        "\n",
        "- Loss Function \n",
        "\n",
        "- Optimizer \n",
        "\n",
        "- Metrics : monitor during training an testing "
      ]
    },
    {
      "cell_type": "code",
      "metadata": {
        "id": "r4OftnWzdKaA",
        "colab_type": "code",
        "colab": {}
      },
      "source": [
        "network.compile(optimizer='rmsprop',loss='categorical_crossentropy',metrics=['accuracy'])"
      ],
      "execution_count": null,
      "outputs": []
    },
    {
      "cell_type": "markdown",
      "metadata": {
        "id": "FOnZblx3dcSN",
        "colab_type": "text"
      },
      "source": [
        "Before training, we need to process data by reshaping it into shape which network expects and scaling them in between 0-1. "
      ]
    },
    {
      "cell_type": "code",
      "metadata": {
        "id": "EAJl5GiAdrUD",
        "colab_type": "code",
        "colab": {}
      },
      "source": [
        "train_images=train_images.reshape((60000,28*28))\n",
        "train_images=train_images.astype('float32')/255.0\n",
        "\n",
        "test_images=test_images.reshape((10000,28*28))\n",
        "test_images=test_images.astype('float32')/255.0"
      ],
      "execution_count": null,
      "outputs": []
    },
    {
      "cell_type": "markdown",
      "metadata": {
        "id": "zQywXfZ7fY_m",
        "colab_type": "text"
      },
      "source": [
        "Categorically encode the labels :"
      ]
    },
    {
      "cell_type": "code",
      "metadata": {
        "id": "Q3QdMR3cda82",
        "colab_type": "code",
        "colab": {}
      },
      "source": [
        "train_labels=to_categorical(train_labels)\n",
        "test_labels=to_categorical(test_labels)"
      ],
      "execution_count": null,
      "outputs": []
    },
    {
      "cell_type": "markdown",
      "metadata": {
        "id": "cteME9Ubfvc4",
        "colab_type": "text"
      },
      "source": [
        "Train network :"
      ]
    },
    {
      "cell_type": "code",
      "metadata": {
        "id": "RCVIeSdkfu1I",
        "colab_type": "code",
        "colab": {
          "base_uri": "https://localhost:8080/",
          "height": 196
        },
        "outputId": "e05e2e70-03a3-4105-8c4a-3bbf1682ab45"
      },
      "source": [
        "network.fit(train_images,train_labels,epochs=5,batch_size=128)"
      ],
      "execution_count": null,
      "outputs": [
        {
          "output_type": "stream",
          "text": [
            "Epoch 1/5\n",
            "469/469 [==============================] - 1s 3ms/step - loss: 0.2576 - accuracy: 0.9259\n",
            "Epoch 2/5\n",
            "469/469 [==============================] - 1s 3ms/step - loss: 0.1026 - accuracy: 0.9700\n",
            "Epoch 3/5\n",
            "469/469 [==============================] - 1s 3ms/step - loss: 0.0671 - accuracy: 0.9796\n",
            "Epoch 4/5\n",
            "469/469 [==============================] - 1s 3ms/step - loss: 0.0490 - accuracy: 0.9855\n",
            "Epoch 5/5\n",
            "469/469 [==============================] - 1s 3ms/step - loss: 0.0369 - accuracy: 0.9883\n"
          ],
          "name": "stdout"
        },
        {
          "output_type": "execute_result",
          "data": {
            "text/plain": [
              "<tensorflow.python.keras.callbacks.History at 0x7f6cc03cf208>"
            ]
          },
          "metadata": {
            "tags": []
          },
          "execution_count": 13
        }
      ]
    },
    {
      "cell_type": "code",
      "metadata": {
        "id": "JNKgL0uWgAsM",
        "colab_type": "code",
        "colab": {
          "base_uri": "https://localhost:8080/",
          "height": 50
        },
        "outputId": "67908d3b-e136-40d6-9386-1243595f0d20"
      },
      "source": [
        "test_loss,test_acc=network.evaluate(test_images,test_labels)\n",
        "print(test_loss,test_acc)"
      ],
      "execution_count": null,
      "outputs": [
        {
          "output_type": "stream",
          "text": [
            "313/313 [==============================] - 1s 2ms/step - loss: 0.0693 - accuracy: 0.9787\n",
            "0.06928634643554688 0.9786999821662903\n"
          ],
          "name": "stdout"
        }
      ]
    },
    {
      "cell_type": "markdown",
      "metadata": {
        "id": "TTalHc_-gegy",
        "colab_type": "text"
      },
      "source": [
        "Training Acc : 98.83\n",
        "\n",
        "Test Acc : 97.86\n",
        "\n",
        "There lies overfitting."
      ]
    },
    {
      "cell_type": "markdown",
      "metadata": {
        "id": "HOQ-GWhpJXZf",
        "colab_type": "text"
      },
      "source": [
        "# Data Representations for Neural Network"
      ]
    },
    {
      "cell_type": "markdown",
      "metadata": {
        "id": "UOyW90tjJqDw",
        "colab_type": "text"
      },
      "source": [
        "<h3> Tensor </h3>\n",
        "\n",
        "It is a container fo data, generalization of matrices to an arbitrary number of dimensions.\n",
        "\n",
        "Types :\n",
        "\n",
        "- Scalars : Contain only one number. To find the number of axes use numpy ndim attribute. \n",
        "\n",
        "eg:\n",
        "\n",
        "```\n",
        "x=np.array(12)\n",
        "x.ndim\n",
        "```\n",
        "\n",
        "- Vectors(1d Tensors)\n",
        "\n",
        "1-D tensors have one axis.\n",
        "\n",
        "eg:\n",
        "\n",
        "```\n",
        "\n",
        "x=np.array([12.,3.,6.,14])\n",
        "x.ndim\n",
        "\n",
        "```\n",
        "\n",
        "- Matrices(2D Tensors)\n",
        "\n",
        "An array of vectors is a matrix or 2D Tensor. It has two axes : rows and columns.\n",
        "\n",
        "```\n",
        "\n",
        "x=np.array([[1,2,3],\n",
        "           [1,2,3],\n",
        "           [1,2,3]])\n",
        "\n",
        "x.ndim\n",
        "```\n",
        "\n",
        "- 3D Tensors:\n",
        "\n",
        "Container having more than 2 dimensions"
      ]
    },
    {
      "cell_type": "code",
      "metadata": {
        "id": "8qkEBnsSZK6Q",
        "colab_type": "code",
        "colab": {
          "base_uri": "https://localhost:8080/",
          "height": 281
        },
        "outputId": "f25b69c4-05bb-4e69-e113-7152c9c1de19"
      },
      "source": [
        "digit=train_images[4]\n",
        "plt.imshow(digit,cmap=plt.cm.binary)"
      ],
      "execution_count": null,
      "outputs": [
        {
          "output_type": "execute_result",
          "data": {
            "text/plain": [
              "<matplotlib.image.AxesImage at 0x7f51aca2bcc0>"
            ]
          },
          "metadata": {
            "tags": []
          },
          "execution_count": 8
        },
        {
          "output_type": "display_data",
          "data": {
            "image/png": "[encoded data removed]",
            "text/plain": [
              "<Figure size 432x288 with 1 Axes>"
            ]
          },
          "metadata": {
            "tags": [],
            "needs_background": "light"
          }
        }
      ]
    },
    {
      "cell_type": "markdown",
      "metadata": {
        "id": "mPRunskaAte1",
        "colab_type": "text"
      },
      "source": [
        "# Tensor Operations"
      ]
    },
    {
      "cell_type": "markdown",
      "metadata": {
        "id": "tL8RL8tVAy40",
        "colab_type": "text"
      },
      "source": [
        "<h3> Element wise operation :</h3>\n",
        "\n",
        "Activation function operations are element wise operation, which are independently applied to each entry in the tensor .\n",
        "\n",
        "<h3> Broadcasting </h3>\n",
        "\n",
        "While adding tensors of different shapes, the smaller tensor will be broadcasted to match the shape of larger tensor.\n",
        "\n",
        "It consist of two steps:\n",
        "\n",
        "- Axes are added to the smaller tensor to match the ndim of large tensor\n",
        "\n",
        "- Smaller tensor is repeated along the new axes to match the shape of large tensor\n",
        "\n",
        "<h3> Tensor Dot </h3>\n",
        "\n",
        "Dot product between two matrix is a scalar value.\n",
        "\n",
        "You can take dot product if x.shape[1]==y.shape[0], result will be of shape (x.shape[0],y.shape[1])\n",
        "\n",
        "<h3> Tensor Reshaping </h3>\n",
        "\n",
        "Re-arranging rows and columns to match a target shape"
      ]
    },
    {
      "cell_type": "markdown",
      "metadata": {
        "id": "eFKmtF_2fS7c",
        "colab_type": "text"
      },
      "source": [
        "# Gradient Based Optimization"
      ]
    },
    {
      "cell_type": "markdown",
      "metadata": {
        "id": "UuphUmRmceCH",
        "colab_type": "text"
      },
      "source": [
        "- Neural layer have two attributes tensors : weights(w) and biases(b), which are trainable parameters.These weights contains information learned by the network from exposure to training data.\n",
        "\n",
        "- Initially weight matrices are randomly initiallized by small random values. Objective is to adjust these weights as per the feedback signal i.e loss .\n",
        "\n",
        "<h3> Training Loop Steps: </h3>\n",
        "\n",
        "  - Take a batch of training samples x and corresponding targets y\n",
        "\n",
        "  - Run the network on x (forward pass) to obtain predictions y_pred\n",
        "\n",
        "  - Compute the loss of the network on the batch, a measure of the mismatch between y_pred and y\n",
        "\n",
        "  - Update all weights of the network in a way that slightly reduces the loss on this batch.\n",
        "\n",
        "All mathematical operation being used in network are differentiable and compute the gradient of the loss with regard to the networks cofficients, we can move the coefficients in the opposite direcion from the gradient.\n",
        "\n",
        "<h3> Derivative </h3>\n",
        "\n",
        "Consider f(x)=y, mapping real number x to a new real number y. Because the function is continuous, a small change in x can only result in a small change in y. If we increase x by small amount let say ex, it resullts in small ey change to y.\n",
        "\n",
        "f(x+ex)=y+ey\n",
        "\n",
        "When ex is small enough, around a certain point , it is possible to approximate f as a linear function of slope a , so that ey becomes a*ex.\n",
        "\n",
        "f(x+ex)=y+a*ex\n",
        "\n",
        "a is called derivative of f in p. If a is negative, it means a small change of x around p will decrease f(x) , if a is positive, a small change in x will increase f(x). Absolute value of a tells us how quickly this increase or decrease will happen.\n",
        "\n",
        "<h3> Derivative of a Tensor Operation </h3>\n",
        "\n",
        "Consider : Input Vector -> X , Coefficient/Weight Matrix -> W , Target -> y, Loss Function -> loss. Using W,X we can compute y_pred and compute loss :\n",
        "\n",
        "y_pred =dot(W,X)\n",
        "loss_value=loss(y,y_pred)\n",
        "\n",
        "If we freeze X and y, then we can interpret as a function mapping values of W to loss_value\n",
        "\n",
        "loss_value=f(W)\n",
        "\n",
        "Let us say the current value of W is W0,then the derivative of f in the point W0 is a tensor gradient(f)(W0) with the same shape as W, where each coefficient gradient (f) (W0)[i.j] indicates the direction and magnitude of the change in loss_value you observe when modifying W0[i,j]. Hence, to change W we need to move in the opposite direction of the derivative. We will update W via:\n",
        "\n",
        "W1=W0 - step * gradient(f)(W0)\n",
        "\n",
        "step is needed because gradient (f)(W0) only approximates the curvature when you are close to W0, so you do not want to go too far from W0\n",
        "\n",
        "<h3> Stochastic Gradient Descent </h3>\n",
        "\n",
        "Function minimum is a point where function's derivative is 0. Finding combination of weight values that yield the smallest possible loss function is the objective. We modify parameters little by little based on the given loss value on the given batch.\n",
        "\n",
        "**Steps :**\n",
        "\n",
        "1. Draw a batch of training samples x and corresponding targets y\n",
        "\n",
        "2. Run the network on X to obtain predictions y_pred\n",
        "\n",
        "3. Compute loss of the network on the batch.\n",
        "\n",
        "4. Compute the gradient of the loss with regard to network's parameters\n",
        "\n",
        "5. Move parameters a little in the opposite direction from the gradient\n",
        "\n",
        "Stochastic refers to that each batch of data is drawn at random.\n",
        "\n",
        "It is very important to pick right value for step. If it is too small, the descent down the curve will take many iterations and it could get stuck at local minima. If step is too large, your update may end up takig you to completely random locations on the curve.\n",
        "\n",
        "*Momentum addresses :\n",
        "\n",
        "  a. Convergence Speed\n",
        "\n",
        "  b. Local Minima\n",
        "\n",
        "Momentum consists of acceleration and velocity, with optimal acceleration and velocity we can reach the global minima else we will get stuck in local minima. Hence weights w are to be not only updated on current gradient but also on the previous parameter:\n",
        "\n",
        "```\n",
        "past_velocity=0\n",
        "momentum=.1\n",
        "while loss > .01:\n",
        "  w,loss,gradient=get_current_parameters()\n",
        "  velocity=past_velocity*momentum + learning_rate * gradient\n",
        "  w=w + momentum * velocity - learning_rate * gradient\n",
        "  past_velocity=velocity\n",
        "  update_parameter(w)\n",
        "\n",
        "```\n",
        "<h3> Anatomy of Neural Network </h3>\n",
        "\n",
        "![image.png](data:image/png;base64,iVBORw0KGgoAAAANSUhEUgAAAXoAAAEsCAYAAADNd3h6AAAgAElEQVR4Ae29zbsdR5Xmyz/StuSCGZagembLwJ1huahZIxkYYpnqWWMZanaRTA3LkqghlkwPyxLUnWGJukMkmZ5dJJkeIomaWhI9rJNxn9/a8cZZGTsyd+6vc/bOjHyeveNrxYqIFRFvrPjIyC+F+lQJ7JAEPrh0Ody8eTM0ytNBssmn02ya5jBeEw7tMcYBPk0Iv/nkZpHHrU9uhh9deDc8/+KZhYteecKTNOpTJbBvEvjSvmW45ndcEsiB8/x3z4WrV6/OgXRXqRVfpoEzxE0IyR7dQPRn9+6Hv3n5RJldE8LZb78Zfn75gwToNz66Ht54/Ux4/vx5K47Sa3lWR5XAjkqgAv2OVsxUs/W982+Ha1euWvE/f/govHj2PNy7dy9cu3YtPHrwMISo4T98+NDA986dO+H69evhyZ8fJxWesKePn6TB4smTJ+EvT54az+u//MiAHp6lhzROvnwi3Pn0diD9V06cDA//+KBFWkG+JY7q2AMJVKDfg0qaUhYB+qsfXrEiv33ufHjrzbPhJxffD5d/dil87dTp8LvbdwzQFfb+exfDlStXwulXT4X7d2fgTZh4wAi7Bg94odEza+h60OJJ65uvnwnYeSq4d0mr+u+DBCrQ70MtjTyPAlFMQFqgjB0gNy2+CeHnP7sUfoq7CUYnO+K5+a+f2KCAneUf8cAtoIc/g0G+dKP0k5ibYCAP0PPk4bk7xauWKoEdlUAF+h2tmKllS+DpQdqDPvIAvAkX0P/65q0kJi2zwMfPChRPGj5A/+UTJ1M8pZs8QjAtnnV5tHpp9D682qsE9k0CFej3rcZGnF+BtLTxH7hlHIqNP+DPc/78+cApGT0AOGvrPPkAIY2eMK/RC+RlEs4aPQAPHev08LS9AeM8r91H72pUCey0BCrQ73T1TC9zduomrtF/3y3joMUnoI9LN7asE0WE5v3uOxfMhflPly6bHRAH+L1Gz9JN60RO5MHJGvYERIs3aeCXdnYjbTWqBPZJAhXo96m2JpDXtHTTzNbaDXTjSRs2UM+dO1y6+fqrp8I/XnzfQJ3NWJ3KYcMWTRyQhh9AzYYtD6dxCGN5J38u/vi9tM6vME79sIzDWfr6VAnsqwQq0O9rzY003xyNfPx4dlQS4AaYeQ4ODsLTp0/DgwcP0ho9gwBLLAD7s2ezl5ygRYvnSOXt27cD/LAbzygz/Dhe6c/GY+eMPcDul3LQ5En3/v37bf/IqxpVAvsggQr0+1BLE8mjB9guu0Thl2Pk5+PIbx2zxE9+MtfhX+NWCRyVBCrQH5WkazpFCQgwZULk7T6S9798+bJtxspPpqeXPQ/rc+dh4oHZF+bpqr1KYNckUIF+12pkwvnJgTR3SzS5P+6Sn+j7zDwetCW/Ph41rEpg1yVQgX7Xa2gi+RO45mZefIXn/ovcPp63K17JT2Elc1n6Eo/qVyVwVBKoQH9Ukq7prC2BoeAKHZun+X02+A/lUcrsOnFL/KpflcBRSaAC/VFJuqYzSAJdYOr9vT0/364wztzrxatBCS8gEt8FZDW4SmAnJVCBfierpWZqXQkA8v7Fp3X51fhVAvssgQr0+1x7Ne+dEqhA3ymaGjBBCVSgn2ClT6HIFeinUMu1jEMlUIF+qKQq3V5JoAL9XlVXzeyWJVCBfssCruyPRwIV6I9H7jXV3ZRABfrdrJeaqzUlUIF+TQHW6KOSQAX6UVVnLYwkUIFekqhmlUAIFehrKxilBCrQj7Jaa6FWlEAF+hUFV6PtpgT4pCDXDXMXPd+Uxe6/ELWbua65qhLYrgQq0G9XvpX7EUlAb65e/tml8MqJk/ZdWL4kxUdG+OKUwo8oOzWZKoGdkkAF+p2qjpqZdSWgr0sB8vrpA98V7NeVbo2/rxKoQL+vNVfzXZQAX4hCixfIY7J0U0G+KK7qOREJVKCfSEWPtZhzAB4/HC6g/+brZ+zTg9DN0Y5VKLVcVQKZBCrQZwKpzv2WAN+W/cXVa2mN/icX3zegV6kq2EsS1ZySBCrQT6m2J1LWe7+/a8s3Xz5xMty8eTOVuoJ8EkW1TEwCFegnVuFjL66BeRPC6VdP2Tr98+fPx17kWr4qgYUSqEC/UET7QwDINXzzdH+yvJ2cHjThRxfeDd958+x2+O8x1zqr2ePKWyPrFejXEF6NursSuP7Lj8LPL3+wuxmsOasSOEIJVKA/QmFvIymvoXm7pTVR1R458Ibs/bv3tiHyveTp24a372VhaqaXlkAF+qVFtpsR1HmfPHlin9Djrpep/PhkoO62mUqZh5YT2eQfSd/NFlxztU0JVKDfpnSPkLeAHi32G2femCTwAWocrRQIagCQe4rm2+fO12/nHmE/3NWkKtDvas2skC/Anku86Nx1RzbUF6RCSLO7FZpTjTIiCVSgH1FlUpQK9COr0DWLo1mM2GjmJ3c1pyGBCvQjqWd1YJZuzn/33EhKVYuxrgRyoIef2sq6vGv8/ZFABfr9qavOnPrDNWy82dJNJ3UNQAKLwG5R+L5IsQT0+5L3ms/NSWAh0KvBY8qu5HO3/KvZLYFtyGzqQO9l6u3UQu5WzXT5K3wsZgX6sdTkeuVYCPSwV6eQuV6SNbaX6SakMWqgd4XL25/cMrtkmYfnbsWTP6bsCttXswL9vtbcZvM9COh9kuoAMn1YtZclkMsqd5djDfd1WGhnpse0dMMXox4+fLhQGENlKjpM2WHu7Uqs5KewfTEr0O9LTW03n0sBfd7wc/d2s7rf3CUrmZsszZiBnkGLk0SLHsk1NxfFy8OJLx552D66K9DvY61tPs9LAb2SpyPoFXNOedRfvwwAKmQkkzPumwSTKQB9Li+5Hz16FK5cuRJu3LgReCuYBxN/PdDiVjg3WnJ9MfFox+L1+PHj8PTp03Dn09vh1q1bYQw3X1agVyuYtrkS0CMyjvC99eZZO+GB1lV/3TJAVpIPH67e9MtMYwd67pcvPZcuXQpnv/2mvQ37/nsX7Wrivzx5agMq1xSbnBFOvLaYMD41SLvlg+GA4Buvnwm/vnkrhIPG3ITxO3/+fCnJvfOrQL93VbaVDC8N9Kb9xM+1oaXWZ4AEItgAOHzPVEDvAXoAl04Sz2dsxyu1dCOt2wsBsP7r8xcJ0KH9+PoNcwPgaOYAOCbgjdw/uHTZQN7qoAnh6eMnNkDg5soE4ql+fFr7aq9Av681t9l8Lwf0DlG+f+78xi9LKnXmvLhDaIgzlM7zPwiz+9y9n+w5v9wtukUm3zLdxOPTd9ViS0QA3lie751/O9y/X16jRzv/1UfXTROnPX791VPpXperV68GtHxAmwHh1ic3zY5s+I6sn2Ux+KK0APRjkh1toAL9WHrCeuU4cqD3AFXKeh4ut8xFcbrouvxL/LzfqvE8D29fBegX5QGgh4Yf+wCA3lie7333nIEw5ZEcMFk//9qp0/aBEdbbHz14aODNpWaAO5o6ssYEyKX5A+QXf/ye8fT7JoQD9AwsSmcMMqxAP4ZaXL8MRwb0R9F5lIbMLvF0hXf5d/FZxX9ZoB+SJ2YiegCvMQE9ZbElQhvNZuvtyIQBzZbBYsHR7gF+wNqeJoR/eOeCafOm2Uc6gA8wZ0lHAwLaPfEJwz6mpwL9mGpz9bIcGdAXs3iIT4fB+NEJBz5DgLCPVSt+7Pyib4XJc01zWaD3yXXlx0sLUBzT8gNAz4YrZeIHEF++fDk8/+KZATvLMoA7a/CEs2Sjh+UaNr9trT56MhOAH2DPqRvW5D/44APT4gFFye7g4EBs9tqsQL/X1bexzB850HuwQgNDM9PDqYgTL70cfnLx/db0+ezZs3bcTXQlk1MSvpN7Gp8mdHTw0sNRu6QRZgTiITMLHuxcB+h9IsoHJkAvN+vZAitPv692lmQo0927d02zp73oBSq0cECcwQ07yzSEaeCjPaXTN5kA2LS+c+dOgEYP8UlvTE8F+jHV5upl2TrQC4BKWdQRN/XMGx9dD39/9i3bLJMfGtjJkyfTGWjxEV+ZdFDOQPPIb+ZQjJmJJkfjLz34a+re4lEgXhReiGJe6wB98UtBsxWIlNzYTt1QsGVlDT3g/6MfvmNHLyWcIh+NColoZinSimaPzAr0e1RZW8zq1oGevBc7TRMCwG7aZ+xsAP+/f3o7fOvMG/YiC3HpsOnIWzwq96ML74YLP3zncEp+0NhZaGgZINDuxJvjdvjbzCEeC+WInTbeoOPhZRo2/kibzT0etEXWd8mXnbU2347yxLBFxspAH49mshRBfsi3aZ8ZUKH92hr0oozsebgvdsvezFy0Gdbonz171irpXFv0kVuU43BUoB9HPa5biiMBemWy1cmaYEDlp9anTp0ykP7pexftPDT0ADLAzLo9YAs9APy723dsXfb27dvp2Jxp6s3sZS7AEHDHL23SxTB4wAs+APv169ftFAfpfufNszb9BzA5hgcNP4DDg73KtKy5DtB/+cTJ8MpLLwdM+LAZSR4vXrxoeWOwYlAb02Zsl3wTPhfeMvZhnfHjgKCZY07Xaqt54B65K9DvUWVtMatHCvSlcgBUrKsCUPZSS9Sktc4MaBmYh2BgC8DTkfmxxqo4WpJBy7XBwyUGjdbe4WsDRwynI+i8NTQGkk2wPQHlDVKWhbQ05FgvtOaA8ZWXT9o+BCCNdg5g9/1yOoC+RC86Zjp+lrQwgxsmUHllDmE/hDanyd2kU/IrpT+Ero+mL6yUnvfL48ot09Muay/xqEC/rBTHSX/sQI8WzTIE4EujpLGy9GJXBRw0Bmp2BvqgmWmy/2UGdGi1X35pptVSNYAb8RkwNEioysTb0ymMOKK/du1asrM3wAAAgKLNc/aakx56NNjIPdQEpJMWOeR0EQnF00DS5AX2yIhBjPIxAELHLEb7DD5PJRDw4Zu0d6XV5U/ahOXhcssUnc+rDxvi72lyu3jJzMOXcc/xoB7d48O93ZEUrcvSVqAvinFynscO9CyHAPYceePUi0AQAPuXCMJq3IAuQJ4egWAG9N8488aMJHYugI8XaeCjAUE8PdBzGkegDwMGHH4s3eDP3oDipTwsaQGsV3riGj2DDgMQRwc5JSJ5iacf6JRXmaLpc1tYBkrEy+OIF+nnYXLLnIsf603hMsUTd+6nsC5T9DJLdKuGlXh5P/H1puyJriDTFJZZ8rhyy0zkjudcWCSqQJ+kNWnLsQM968qsi//tqdOzioiNl6OS+GmzlEAADrDloWFDI2DGtGOTTQgAvW2oNrPNXMBVSzeAPo1fHSMBfTN7XVxLN6zb+7VuNnWVluIOOe+faGelsxlKtC5t6FhhV0TSYm8h1+iVB5mKz0zgi+dulhLXrZkVtAbUGCGPjzfHE0v+SgNTZ9ITXXxz1dOsak88+wajuBz4/be/N7sLZ0FinucC0mHBtOlmtuFPBE5GcTumHtLL08zdnhY77ZNlyi460VeglySmbR470CN+1sLZPPUPnYFlDn+NLNo14As9gwM/O3kSNXqdoyfOW2+9ZcsurN1DJ3AHrAX6pIe/gBFwI01mEy9evDBgZ9AgDqbvWLHv+iwPstvSzSDKQ6JFnRlK0SA3nbqR3yGnQxv7HgycTilMgcgHuSx6GHiYZfmnK03vjxxtaa6UeGTm6T3/kr1E6/2oS/LJLEjtpcQHPx/P03T5expvb9HH+3bUPpnF8kGVFo2PvMBOPPoCs+BSBXq+FegXCHMiwTsB9KXGavLvAYJ0bE40bgnBLrCCAWEHjQE9yy/pUZxSx45hdq0A9nhcM9fefWdKfAdYlgV6pSOzlIQPS0s3bv3fhxMfNwOXLf04hgA3AAI4+MEQEmZeDCLsXejRYJzqL8oLf7sPvkPOzBhsgHDhyJd4/gGUcz+Fk4+uMPwBd5UbmaT0Yh7JM/65DIx/E+wFLdnVBsi3lRXt/M+P0xFg5QlT+WLjXulTNpQFGzypl7jn4uMh+wcPHnivZKdOyGv+sG9kJ8E66pr0K9DnUpumezeAPpO9pvrmrY7paGjA3jt1qEjDOjYNnM6ByQyAgUG4ktOLH9EVlmhnWJ9SV3grAym0bElxQrANZVF5f/mVzKF0xE2bsbEAiisTGoCQWYsE8vCPDwz4ASP8+QnoARn5M1OQZkxc6FgW04wI0EH20GES7gcG0iYf+PMGNHx59DY0JnspAB7xlS6nqGz/JgImM5G/O/uWabQprAkGeriJh0ndM1hAS77xh8/t335q4bhJJ80m4z4I/JlxaM8G95nXXjdaeKFIYBLXyh4bI1o6AyjlP/XVV23GRPl+c+vXlh70yIh8kTayIH/IA+0cnti19wINaePHj2PC+qAKcVmmw1/1aMJ0bRg3afGrz7QlsBNAL1BNDRaPg/krgxNdVme5Px2Fxk0nwfw/z2ZaaE6XsZk5I5EZgyIUuXR6LqvRi5EHavnJ9GEMblq6IdyHiR6ZAEqSN4BieyFNsFseASSBA8BkQBi1UE73AGbEJS1OAGEnHeLZ0ghya4LNpPK1aPJAPNuUjjwBVUsvzp6oN+UHPuwloL1iJ6/8sPODVmUB3OGNP21AdPhJo2fggs5r58hL6ed5gUcC84NZGU0eMa/wpcykh1zgT/qYhNmR3EyjZxC1vGnJkYvYKE/8+InyjSm7L6vqFJM0LM1YuQrzda26lF81pyeB5YDeyYfGb53F+VXrAgnowyMdALwgdmewH4/Q1gUixQgRLKWxQ2OA9PiJYQ28AAYPDmjl1DWaLMAKPcSk1Rq44ktwaJqsRzOTIh3DMPuf5SgBb8wg/OCfvgfQzDZ5ud8GwGdfRoD3g/Nvp9kG0cmnhR00NiAx2DAwCPChIZ8cxQUEydu3XjsTU54ZfqNdeZFMSdvLirRsaTASMGClL2DFwY/9D/KFbMgHpAwmkgUzBfhSXuKzLAYRdGjsNni6k2SWy3hYIK9b4ltZXYk82Od16ciqdUISGAT0vuFINjTcvIEprJoFCUTt1UDyOIE+Aojd2x7zIeBWrgUO1DsavJZD5G/0BzPQ9EAPCAG0vKnLqZC0CS7GMT1AXXIgCC3atyXSIc13333XlnJ+8uP3EtADkISrTQKeNoMBJePyDRo3yxwsa2jNnBfVeAD97/+39lXEOj5LfPIlBYY0uBZDsiI+ZVQ4bsqPG42esrP8wgyDwUBAr3g64otJORTfyhIHDt7VsNlOfIvbDzKUm7Kq7MRnUFB+vL8xLwza8q/mtCQwCOhLIqHB6x4ZOmn99cuAzoiMADVT3UpCXdEvYoTFzjX6UudHK/cAwpKD36xGIwZUeKhn3NpABMBUBspjoATox7LZMkIc1KTR58USrfk3M6BPWnEEfr0Ahqz+8eL7SWsX0IsnoKmlFQBWHxghv5QLDd7PPNj0JM9p76AJBszIhLS8hozspIkrvVzBAczJO/IC5K1u44zEAz3xJFNMAT1HiE32cfmLciM3+CB7X0/Y8fMP+WXpSPUsExrspKV0fbxqn5YEVgZ67gSn0dXf8jJQJ9xUU+sD+lIaLIfofQTCAW+0X0CGwTutU8d3FwgDnFmvx64ZAKAJmAEkaLT4a/BHqwawSiADMEFrYU6LFkihGQO8pAkNfABKwDsHXsDPwprZ8gjpMqhSRmYFnI4B7MmnHmYIXH0NwBLfNjnj9cT57IL27cuAWxo0/CgH+USG8IEncoQu7QWE2ecMySeDDmkK6IkHHbLlJ7uAXmkLtG1QiyDOxjL0+SM54k988cjpqns6Elga6H0j8vbpiGzJksYlBdP0YtRNy21ZoEfrBiDQapUXwOvSpUu25AJQAUg80ALeDOyApz65J42YMNaccQN4aP+4AVfc8Co9v7rxcYoHENk6dSTEjh/5Afx4KYu0eQBG+OoRyOImDzdu3LB4aPoMPjyPHz9ug10T7IU6ysS1F6KDlnS9m/QlC8LZXPZ5JR25oaX87E/gh1tHJgFlAJ77mcgzYZI9bvJCeCrbQWN5TO64iU08PcjEZiLyiAOAc1p5KtB7iUzTvhDo1Rhz8XT553TVXZbAJuW3DNAr3XQGO2ZP/j638pNJmOwyPb23p/CYOXO7jDb/Of8FpxTHM7JEnYfj4XzN6uPLLjOnxZ3CPE9nT+GO1vvNEi1xjrw7eJVjHPoqDTMjD/mJCjdLU/7DKQqTCQ0gX4FeEpmuuRDoc9HkDS4Pr+5+CWxDfg5PTPtk2aDvIQ9o5izDlJ5SHr2f7LnpeSnM+/lZTcu/w5F4xAL6b+P6MhNdtDI7WBa9FQeeya5rjBf4ldIWj1JixbCsMOllPcfAx8POzMIAPIsrOpkV6J0QJ2xdCPRqMDInLKuNFX3TsvR9nWWGPqBPtPGsuZZg8sKtkseuOKRpYSnxWWqZM8/CnNvTe/scYZcHkXoiKqirHGK7KFx0mOLp/ebsjgje5mRDu+dJbx4XyJQ/zAr0PUKcUNBCoJ+QLPa2qOrYIARrugb0BQDY2wLWjK8sAYCefYT6TFsCFehHUv+mCcZvpfZp9CMp7lwx0mA3FzJtD4CeTV49VU6SxLTMCvQjqG/feTk944/gjaB4KxXBy2QlBiOJBMgD9v5BNlU+XiLjt1egH0Ed+06blm5GUK51iuBlsg6ffY/rNfoqk32vzdXzX4F+ddntXEw6Mhq91uin2rFVbpk7V1FHmKGSRn+EydekdkQCFeh3pCI2lQ1ex+fNUtPkrs7OUGOfwk+gJi2WTcgplLuvjAz6hOupg58kMS2zAv1I6lsdmLc6AThAjzc0+0BgDGECd5kqE9cNsFch95RNvV2rNjKSJl+LsYQEKtAvIay9IV1wBntvyrFGRrmGQZ/uW4PN/kflmK37+loF+/2v0lVKUIF+FanVODsrAQEZGjxafn2qBKoEQqhAX1vBaCQgkKdAWsrxhVO4TB9W7VUCY5ZABfox1+4EyyYQzzV6+U9QJLXIVQJVo69tYJwSYI0esO96KvB3Sab6j1ECVaMfY61OrEwCbW/qxFGfKETfR1PDqgTGIIEK9GOoxVqGJAGBd98aPcSiSxGrpUpgxBKoQD/iyp1S0VrAfTC7nvcXH16pgD6lRlDL2imBCvSdoqkB+yiB69ev2zdk+c4sv/Pnz9unBfexLDXPVQKbkkAF+k1JsvI5HgnEe/f5KhNaPd9U5UPg/L584qR9vLuepz+eqqmp7o4EKtDvTl3UnKwiAffWJ9G5AkIgj3ny5RN20VtraWeVdGqcKoE9lkAF+j2uvJr1wqbqweyj2a+89LJp9KdfPTXwe35VmlUC45VABfrx1u1kS/bBpcsG8mj0775zoQL9ZFtCLbgkUIFekqjmaCRw59PbtmTDGv2Nj66Pply1IFUCq0qgAv2qkqvxdlYCz58/D6+cOGlr9Q8fPrR85mv0uXtnC1MzViWwAQlUoN+AECuL45WAQFsmuXnrzbPhW2feaGXMh7cCqqNKYOQSqEA/8gqeYvEAdO65+el7F634HuC9fYqyqWWepgQq0I+k3uNx8pGUZngxuoD7/v374ebNm8MZjZWy0DBMZvGDJGMtdi1XWwIV6Nvy2FuXAI/1aT4QzrdjATs+IzfmH2XtKh+bsl1hU/J//PjxXLtWe5kLqB6jlEAF+j2vVnVYmQAYZ8f5Ziofhp7Cj2/DTqm8y9SpPhS/5828Zn9NCVSgX1OAuxYdDRfg4zuhU3g0wMmkzN4+BRn0lZG9ir57+fvi1rDxSKAC/UjqUuCGRo/GFyb0gXCVPa/KLv+cbsxu7vn5xdVrVkTJQ+aYy13L1pZABfq2PPbOlXfaBPR7V5LVMqzyyxSX3C3/qZlo8/5SNy8Xb5+aXKZW3gr0I6lxdVqWbkyjH0m5ajHWk0Bp6UZtZT3ONfY+SaAC/T7V1oC8Tk2jz0VSQawtkRLQtymqawoSqEB/TLW8SUDy+6737sU1+mMq18aTHbjXIHnKJB/ePiRfy9IP4XncNBXoj7sGdiP9CvRHVA8eRLx9E8mPGej5kMiTJ0+WFpNk7GUjJgob6hbdPpoV6Pex1jaf55WAPu8om8/WiDiCNP63haJ5MBubRs/5eMqkp9T25JebxOHLU/4RjfzkxpRdYWMwK9CPoRbXL8NSQD/GjrC+CJfnYKAS8X/52PMxPJSNDeh5J4A3fHnU/mTKj/AHDx7MCyb6eHrzamZfotIA0go/aOwrVavMIjozcIwBFeiPUfg7lPRgoPedATsfXeYzbXzcof66ZYCM+HFtruzS8L1M12kTYwZ6NPq7d+8WxcOyzjfOvBHO/bfvmnn222+GF8+eh1uf3Ay8EZqU+SZYuPi8/95Fc9OGeYv484eP7L0DQJEPleD3tVOnA9dJ7PtTgX7fa3Az+R8E9CVAQtPiKF99hklAMjxx4oRFkHtY7H6qsQM9mreXl+yA+aMHD9PSGFcTA/4APED98I8zLR8aAT8fIoGOAQE6TikpjPPmxCPMwvvFvhehFej3opq2nslBQF/KBWe16ST1GSABTo6Axk0wrd7sbiliAIdeklED/XfPpTV6AXwSRhMM6GmHgDSAbS8HNSFc/PF7gU8K8qDBy1/3xOAWCDLbYjDAbe8gRIHOpZcS3h+Lyrg/Oa453YYEBgN93ugr0C9fHcjw5MmTLe10eS7zMcYM9N/vUCiQJcs6LN0A5B9fv2GaOsDG9Q8sx9iHwcNMu//Lk6cmOAG9AFDm08dPDOjtnqAoYi/Xeanvh4/Ktx+5rbnclgQGA71lwLV8OqA2sxZlLh8kPL1j6b1n9hiIYb8mo3ZOpSGzxczRJW16SY1afGW2+C/h4Dumyz69afqyhWB1YlrpsonsKL1XKLwcWDZEE0/r6E0wjd6AHpk0IbBm/0+XLrfeFGZQ4Ke7gFiiIc7zL54davRLto0dFZ1lqwL9LtfO0eXtSICe4vhOWnL7IotWpg9rxV3wMk2K7+kiMGb4mCfRcouPzFYeWpSLHWxcr/r49Lt4jO3UDUDPMgyAxXILP9bh0cBPvPRyuHHjhg1ubKKydGNAH9sbWj7yhl6yIx9ParIAACAASURBVB6aPnSc1iGebvuEN+mJtkvG++RfgX6famt7eT0SoPcdx9vpVPp4M0VEO8OPDiqNC3/WWu/cuWNS8PG9WC5fvhxu3bqVvFp0LJHH2QC8bMMuUR5aSJ90oBX9YeghD/mVaBTWZQI8q8Tri+MHLcALGfL0xenK3675c4LGgzx2/NDY0eqpT/yws1bPx0b0AOqcdMo3VvHnRsdLly5Zm6HekRWDpG9D4rPPZgX6fa69zeV960Cfg01yN8E0KQP1WB46MKcevvPmWevIAjCm6DpBYaQERC1d/D755JO5pSTCLNwBPSBI4098YtoY+Askk3fMhNKRmcIHWHycOY0e/j2/mHxvKp7/2DR6Cu7LNycIXz+ZsNDQbZkmRvJ8vF088Sv5K3wfzQr0+1hrm8/z1oG+M8tNsGn4j374TiKhU6Jt/+2p04HNM95qBLgAf62t8yILR+QYIPRSC52TmcHTp09ndAeNnaJAa8P/yZ8fGz8SYm+Bxg9fTDuex2zii2fhJxfft3Vd+ZEHBh/S0mYePNYBg3U0euTAUgP5UR414MlEq50brJKE99uyjNzR5L/+6qlWveWlFz+ZCs/d8t9HswL9Ptba5vN8fEAfZmeYv8mLLTy81PLa69Yxf3Th3fCbT24atgNqppVxlO7Ro3Dq1Cmbrl/+2SU7caGlH15+QYMjEmE6agfo/d3Zt2ZhB40BPWu077//vtFh/93tO5Yua7Wc4tAaMDxYGuAHHYPDKo8HDq/Re/9evlHjJ67/fSueOGE2w/IE/FjC8CdHevnuSWCfnAjLFHkrFcszBPTF7Sv+qvH6eB5HWAX645D67qV5ZECfdxy50d7RzFma+b/e+IZ1TLTof3jngkkLDVZrsrzoAvBbz26CAfKFCxfMrSUZtHeWev76/MVM2k0IZ157fQb0IZi2m6bzTbBTGQA5GjGdwkDyoAm/uvFxWkIiPX1oet0qBKjJ67lz58xkhtH3g5ZjhORLIM/JHdkx9eYt8kFexJF8183vrsXvK9dcWDYCzIXvWuG2kJ8K9FsQ6h6yPDKg75INgM4G2P+8fiP8/GeXDMMBfgYAHjRpLdEAaIAZQAbwsZYPqBMJN42apQu0ez10boD96tWrBn6AJnR6/kXgHmZLSfDmYcBAY2a5REtKljlFXNH8yssnLY/aPGSWMOQHPeUXyMsE6JEJsmNmwoBEGcf09AJ0QWuPE6BBIujlPYjDbhNVoN/t+jmq3B070KOho1Gj1foTEyyh/NvNWwZiEgZABz3AyOkSQN2WU5qZpi6gP3v2rKKY+d8vvJvAXWv0utWQOAbuUaM3u5CiCeH27duWP5ZxWBJa9wGYV3oOGgN6ZKDB5+bNmzYIqizwRR4arFrpZNptKyzfdyiAp6fPwVHi8jTebuHx1FPKBmnMVuwSKW5flkSbKNqWReGiNrqMGKcvh7cTL3eLV256tt5uPDyfKNNEkyw5xygX5AWNp+uol1Je5VeBfl6+U/Q5dqDnDUa0cQDMN2pA9e/PvhV+fvkDqxcaLgBGw9XDwGDLMAezMNboWbJhFgBf4rx48SJ87auvpng/OP+2LeNYH2oaswvcE+g3wZaLbEmHxKKbfKoDmXf+Apcy1mOuAvRKk01oXcDlk1BZ8OsDevGRySD27MX8xV2sb2sW5dORXfHN9EAEQeaGJvOa0XjQsgKIezTnImXhzqn8yKvkZjOdWd2nn35qZAwoOR0BJb+SfxedMc/KY7SxPBjIVpvpJT550UXjTY4B58dGLW33B30FeieQCVuPHehBATRUA9uDw84HiAP+aO166ByA+MWLF9MGqc0CnEbPWruOabKEgSbOEoxt1MY1ej9Y5OBOXhhk/uPpX1JaxMXf9goiGFiny3ukMtpjrgL0YqeOjhu73F4L7gT6LA57IsinVASBg/grPeVDbk45MfMytw/M7J4PQYAu9cLj08/pMjbJOZTO+MfBWO3G3sfwiUa5JObOonRy05EMttKG1AavXbvWmnWJP8y8PWfuw7iWOZ+5+XDZVZc5r+qelgSOH+hDODwaGWVPI3327Fnrdkw1XLQYwMxrNITZMcr4JSIAiOOSrGtDz3KNXpJCI/ZHJU27ejTT/kke3iwL8fAiDW7Wvlmzb6HSgk4ZizJnrAL0Kvscs+gh3ILOvzCV04uOwRCQQD7yS2k0s/cJBEo5D9yiRTa95RFzF4f4DN66CsKRlJJayk/58nmkgCmfSqzwprRPqMTH+3la2TXYdtEh76RgkI+YF08vu0zj7Wc+MTGFs/FO2fqeCvR90plO2LEDvRqtF3nu5/qFJ0udRZ6KxxFMQIzOBKhwnprlCIWrkymeNxON8xzq56J0WnuBsTPWYYDyIpMQ4Rd2Oj5LTKVHYMTMyDTqGJFBlXcI0HoBJAAkgVII4cqVK6a5s/HNxq+WHdgLYXOZgZRM4E9c6ODFPTM8Pq+4uYMGoDeNNM7G2I9hBsfyFIMzS3Lw4JoDjtuSRx7egGbQJi7pkJ4tYcT0maXAhyO1zPY4kqv02KRHIWCg57QWV0YjB9I0IcYBEP7wxp/ZHTM5+MGX5TyUBWYyzPLYzNc7DLd/+2migy9l4uGwwamvvmpx2FeBv5YFyTtp0GYpL3Yrz0FjZeWYscqUympcZyfBLsT3UCRjmZGkLt1IEBM3jx3oc/nnDZVwAb3CMGW38GytnA4OENAZMf3yT56ed3ueJb6edkh4To97XaAvpZsDPcBQekyOTWMAZnsbMSJ2gF5g/fXTX0vLDAAT4G7HVeOGNW5ovaaM7N54Y/YOAmEMrIAd+wD5Q30kOcSrmwExBmficbeN8gfoEWbA2AQDPY7LsrTGrI365cU40iQ9m7nF47AAMQ98U3ohtJbytIzErA0egDkDC3EIYxCDr+1b/PlxWmYkbQCfAQu6x49nYf+bj5hEBYM0mRXyUCcaPDE1GFNOA/AXL4zWl5Wy8Z4J/JEDbvGAJ7zJL+nx+PYrO/Q+zoyy/k9NAjsF9GqcQyuhl57puUfAyLQ3zkCaITy6yuABp4umy78rXV9MLd2UaOUHkKWlmSaY9iotHZld+r9/lsABMAHk8Adw0HLRdtFiScvscTDWy2vkn0GAAQGQUbr4k1ct3cgfHn4wZjnNtNoQDEwBQ0COyAK7g4MDExP8FUZ6AKX2bSyxCPQAMumRZzbnFYYfa+YGvE2wGYTlJS6Z6JSW0cf007scceCGJ+UyGTaHS37Utc0s496QZI6pwRgaBgzJ4t7v785k6spqM4a4pGZldQ0EoPeyc0FJPhXoc6lMz71TQF8Uv19PLRK0PdVh2r5llwAyj7PIXeY2zHcVoM/zk6ekcuAPwAoMivHi28EJgLOPocCDMJZreABv+AHGmAApyykgm9foFY/3H9BCeT8CUyCjvBjQ35+9E2AJxPQFiPgB1FoaIU39SBNAFk+lSThhDEgMCiyBaJmFdAFCyZ08c/LKkNkyEGX29ts2ePlBh7wmoI+0pAU/+BKu9yIYEH/63kVLhwGHfHz5pUMQJp7yjSmN3vLlKzAcfpyGOJwU4iE9Bggra8wLBuX0snNBZiUtpZuHVfd0JLAc0Gt6GLWNPk3iKEUoEFGauVv+x2bSkeOvNdXeUIY8TnigF/tcHoC1df4YEWA0bTTOgjw4ANjQ88AHEKYM2NFkBaAMCPijnerheGwJZGg3NhOIWjPa9h/c6Sr2VH7FujlPM7u91AAuLt14ntgFfn6ZiPJQLkCQn+SOHX/VByY8rIyFQYdBwadHWh5YKT/l4brkM2fO2HFess2MhHJRH6SRBqhMM08yi+0DXsofafm02Q+w/ZDYnOBL/L5+SHzPYybU+j81CSwN9BIQDRfNhcZ4nD+mwHn6+JG/3P+43D4vAjjJcRPmIqDP06Djsw5uYBevgWZTj3V4ASQ0gHkC+oPGlm6oc4EmIAaYAXwAPfY/8Q3XEOzFNtzMDPKBRsArgMrBirV12yCNyzy4qTvyi6klEPgCfhZ20NhauoFa3JhlwGAzlnRM7nGwYmMVjRstXMCv5R5mK8oX5YC3ZCG3D1f5Wc5hFgLA84M/gwAyIp+0Sfw4vQU/vb3N3gMyZVmMH3Z7dyRuDFt5TKLt21XhCb3qIpdxjGJpeR7yr+a0JLAS0NOo0Nxo8Lvyo8PyAyDotNh3KW/kRXkCsLo65irNrw/oS+mwccgGo4AeEzB466237DQK4KN3BthcRNsFHBkMGAgAP62hMxDgBjSNx5tnDcSwc2IETdc/yg88FQ9TMwHC2RjFj1M9vDOB7ABJ8ml5u3X4IZF0giWCO/sPnLIBWA284zo//PSQd7up9OxMUbGNWALjQOL3GjgFw4a0Hk79KK/4Ke8Cdyk/8CSvptGH2RvW0DIgcAqHu/D1sDxDPPJsoByXK3XCCDrkQp3AUw9um4lEeslW4bjhZzzlWc1JSmApoC81pF2Qmgc6Ooe9FKPp7S5kMHZUspLLcBPZ8+UHWDyoiX+eLjQCQqPxg49nGBn4+N6uwaLllxKVZb7cLXrS82nGJSRit+gO2XXaSvS5X8vtyt3y70xhFuBpvX1BtLnyEDeP33J7ucDcualDBsG+pwJ9n3SmE7YU0CMWNUKZOyWqJphmZNpf1HJ2IX+5rHL3unl0fd80SA/0XWmhlUKnuJ5O9lKYzyvhovX+2Ev+8pOpOHLLlH/J7KLJ/eWW2cWrL7wrTu7v5SB+emfB0yrM+3n7onBPy4DO7KX0eD4V6EsSmp7fIKBXw5G5i2Iib0yfWRe1O+6FUruY2Q4gXDWrvqhdGn3OG3mh0fu7bvL69Xzz+LhFL1M0uVv+3oSmRKdjk54We4l2qF/OK3eX+CxDQ/whPMSzj7YUVvJj45nlMj2ikSn/CvSSxLTNhUCvhoMpu0SWu+V/1KYAicbPphs/zmKXtKqjzlue3jZkpvKTVgnoh6Q5hCYvS+7u4+HDvD3nscituDI9fe6Xu0Urf0xvVzhml7+nMbsXfh5YCBPfnNS7PU2XXfQ+XH7erEDvpTFd+0Kg3yfRsGTDKQi0em0m7lP+V82rx5MS0HfxbYGEW6tO6zkAXlfk6K9w8ZJJcF9YF1sfP6dRmMw83Lv7aPKwRW7Pd4g95zckjmiKcSVIEWVmKY78KtBnwpqoc1RAz0kSgJ6fzkWPvl4zEOBkD8c5eXZxRrON+hCobYP3vvMsAX2V177X6vL5Hw3Q81Ykmrx+9oWqHdqQXb5qBsYoAL1tsmb3/wzkVslGJgHeOQDs9VSQlySmZY4G6DlPDchr6Qa7ve05rfq043acx07rJhMrfwWydoVXjb4tj6m6RgP0vMzDW4ICe+xekxlzBXtwY+mGl2/8C1rYp/DTC2kyp1DmRWVk32oq/WDMfXzdso0G6HnbkAbNssX34sVX/o3GdQW16/EF9rqEDDlM5ceeBLMYq/vzb5ud/RqO2U5FBn3lzA8mqK3sepuu+ducBPYe6H2jxQ7Y210o2dr15kS2R5ymIINYRt8OWLZK7WCPqmsrWfWnqbaSQGW6DxLYe6BHyL6T08H5eb99qIit5HEKQN8hOLWDjuDJedf+MLkqbxV474E+b8DS5HL/VqlH6qDMYPuE8T3VrNpB8piwZYp9YcLVXSz63gN9Xqr8OFkeXt3jk0AJyFI7qKPe+Cq8lmhpCVSgX1pkNcKuSwDgl0afDwK5e9fLUvNXJbAJCVSg34QUK4+dk0DS6LM9nJ3LaM1QlcARSKAC/REIuSZx9BKQRp+nXDX6XCLVPQUJVKCfQi1PoIw5gKPR/+LqtQmUvBaxSmCxBCrQL5ZRpdgjCfCSHCDPC1R8SBvN3r84lw8Ie1S0mtUqgZUlUIF+ZdHViLskAQH49V9+ZN8j8Fdh+O+s7lKea16qBI5KAhXoj0rSNZ0jkQCfSNSdRwJ7fRtXg8GRZKQmUiWwQxKoQL9DlVGzshkJnH71VLquGtDnE5M8Feg3I9/KZf8kUIF+/+qs5niBBLix8ZWXXrYrq7nJs74qvEBgNXj0EqhAP/oqnl4Bua1R3yVgYxagz7X53D09KdUST0kCFeinVNsTKStfGzsRNXrups9BPXdPRCy1mBOWQAX6CVf+GIt+cHBgxfrGmTdsnR6HgF3mGMtdy1Ql0CeBCvR90qlheyEBAbhMMs2RSvtAfCyBD/P2vShgzWSVwJoSqEC/pgBr9N2QQA7et2/fDtevX5/LXE43R1A9qgRGKIEK9COs1FqkEJ4/fx6ePHlSRVElUCUQQhgM9Is0oUXhSFs0MvMa8P6y59eJ24c1mtz3kJO/tfDQt9rWlYDqo4sPLyVx3QDLJfp+K98x5RqCvl/ft06HhvHNWGj9t2MVl7Rlx/R5kb/iK1z+mzRpl/bilmu6ztol1urvJMAm+42PrtuyHHWjay5Ux77dbaruxFv8Su1HYUdh+vSVN5WbY8XIp6TgDAZ65J139tzt6mSQVfFlKlLuNv+BvaICvaS4OVP1IRPOst+/ey+w8cnv8s8uhd/c+nW49/u7gdMuhN2/fz/cu3cv/XDLz+zQbOhHmildx7OVvvPvykeJxzp5/PXN2YfrOdPPR8vv3LlTrBzJVIG5W/5jNktl5oU39lxeOXHSFAkUCurD15O352Hr1B1x+9rPurwXxfdpY4f+D/c/S33Glxu5APa8MPiTi++nFwVpL4OAviT8ZRqbjy+7zJxPl/9Qugr0uaQ26/b1w3l1GhVaRP5SkqfbbA7K3PL05JZZjjXvuyz9PIfMJ1NQ2Ds4ffp0QHaSWSnNkl/GeRJOQJ4BEm0ZjZ7HyyYT78Zl4tPaOPMtMURmzKyRG0uYPAuBvrOghZdQYOjpvV1l8n5ddtF6U7QyfZi3V6D30tic3csdu+6UefTgYQIsUvN0fakPpevjoTDPy9tXCSdOiYd4rWOKLzL72qnTs6WcyFBh6/Df17gqe25Snn9458Ls9FRE9BKN/GzghG7D6J/4b7FtDKk7n4+F9AeNafff4c3wIUD/8OFDW/v0wmP6wAiLqYdMvP3227Y+hD3PlNzQPHr0qBWuMPEi/Pz583ImU3SkW1qHgrACfRLXViyqA9a1mSqWHtHkYfLXWXe5c7p13Z5vyS4/meumNzR+Sq8JptGz3FV6El0pcGR+fWVlCZAZo+4qmiv6hgF9jn8G7MprbpbibdJP6eU88e8KE+03Xz8Tbt26tVijB+BZG0ODE1PWgdBI/PWvrBVRKX0P8a9evRoeP35sZD6j4k0Aa1G82egHFx9Ofvwg49OsQO+lsR07gyx18PyLZ60EfB35gNw/d3vade3ijSm75znn1wMWc7Se0UB7J48m2Ho9ipSeTloRjNicK3vUSC9fvlysR8OGrO7EIzc3KTbx3iTPZXgNTV907A8xK1q4dINA0d5sHTaOcGwo/b+371hDVSZ14sIq4KAJv7t9x7RrXRErOkBc60b4sWb50UcfhadPnwamtIzegDhAgv3j6zdM+3nx4oWxePjHBxZGfjwf8a9AL0lsz6RuaRN+IO5KTXVJfXKTJCZKAhu3Q+J38ZU/7Y46hxezTBSJ0qOGT5t57733Egl5ok3qEZ1M+a9ren5mb2YvdZFfH7ZuOvsYv1j+Jtgas68byuZpaUtcRa3rqL3JbGAT7UvyVLp5+1H4Ns0HDx6EK1eutJJQfrxn7oeb/CKXxUAfgk3R0eJ50OYAeoSIBq8lFBb/bYPpoLEdXzYC6IR0PsUl/okTJ2y3PBw0VpEcDYIOeqayAAM/OiDrS3RieBBOxhmhyDg8lbYvbAV6L43t2JGxzeYyjaqUmurSOh30B7P1/bSJW4q0hF+q7yaYooDC0HrcXhLtRwOPQCBXPIibd5gWvw06aPdDOvAGk9wfVk0wDJAy11snkZZVBT00tQHNU+Td5oL20x1xQyHNbDkaDFSBJAuZpZR82GCgR9O29cQmmGZvwN0EA1tp+l+PoI+2x7qQratFaRNXU1QAnM7G5920UUBGAW0yRBidD7uAnMr+8ksnbHSiANjzkV6FTR1fHtXcuAQAKH5DHuqJOs8fFAOm5TxotbQxGrPOmmNCw+/fP709ix7b07/dvBUuXLgQ/uXKVRtwyAvtAiWA9mNPbKvwZFD6y5PZAMCxM9qWNH/i+nYGLcrHpUuX0oyRcNKEN/mh/f/vh49m6YRgeYYveSIP5GUIyCwjx5TYhCzU09BH2CF61Rn1QZ3RvnxdQ0eYTvLgBstoLz9972L4E4cMCg91T1rw4gHniMeeIvWvFQzqH5pWuw7BcI/8/PzyBxZGu9IDdl744TvhRxfeTXzIH+flba09ntSiP5BH+PjTW+KTm+R3kEZPq2W6TaJk4vZvPzVeLPJLiGSEB6D921OnbWqP0Pihvalj0ekZedFk6Ki+QzBTABhycDBwP3Ey3L1719KoQG9iOLa/ZQCKuuZueKvoCNR/ff7CGq6UBKbggOuHH35oZ+zpgLQZOg1Le8zmMHloN7g5A0984tLmeGhrsl/88XvmBpxZ/kMRIV3icIWxBgQBBMoEbZyykWdM2iP+pEV82j5LAgxQuHnggyJjef3tp+Fbr50J/8+tXw8C+2XkaIlN7I+6GfqoHkUPhqjOGLwBZGGPDgPQXjQLYKCmXRGP9kedSgEAf/TQfr5y8pXUfgBhQJd2QDzSBNxp77Qz0qCeCadt/t3Zt6ytANCkQTjcwVLaPO1cbZ73LWh/Fy9etLyhLNMWaZe0N8KxG9grg25GqnwPB/oQDNBhjrBMW49auKbgNpWP2tnfffvNdKgfQVJICY34uOmw/3RpptGRRzIFL73EgpDkj0lmqQTZoVNBzDP+IUwEW5/tSWAZgKKuqTsatH7UM7M5tSPaBG1LD0oDe0D2NMH2e+iEPHQkeKruAXTVtzoVnSO10zj1Nu3t6VOLS370qD0yGFgabqqOG3/aHe0RvjykDQ9Oh8GX/FrnDsFmDklLPMQHJdcyl5FjK+JEHL6eFhWZ+hE+QJvXGWiquiacOkS5gI7lPsJQBPSwhyRMkx9xeFnJHxShfRhSRyL2rn5x9Zrxh6dv1ygSaieQk4YBfdMYYNvMNbYZ4p399pvGlXYCHemwEsIAweEY3LS11N6UUQf2eCHHYRq9m9ZoE45C86Mz8CNjuAFgOrKdyCDTB81ME4ogLWEjYDqI6Oi8VBYmPKySD2alhi9ugXteqa58Nmqq43v/at+cBJYBKHU4Bnx+aMQAJI2UeuWhPv8Ql1zww019nzx50jR22gx+RvvSiVnHih3C54XOwEBPmmj66oBGGtNLbcu4zTo/+YKPZgORdVoWUhmIIm2Q/NBWAX9N59GuGHjwE4+YTNHweS8STNzTMGCgDAwfnAJAneHn60HYI5YAveHN3XvhKy+ftCVhaLTJi7auR22V9uvbFm2HVQ14gXv/9fTXZu2omQEs4coDvHHgPgiNYeb34qEG8spKhU/fyh/X6IW7DEa0NwYb2hszEX/6TflUvjHhMxjoGYnIhEYrMWJUsgLII8zW7hl1aMh0Po1MkECLcHmY8pBZ0ZAhwlRJ0CjjCFdLN/A+e/bsbFQzTod/VaM/lMW2bMsAFHVJnaseyZPZY4PHzdLO/3IbabQDAX8qQ6QHYDU7pMP4+pY2xRTXd0Z40EHR3HzbsrQjYFMmOhB5U8fkWBr+dFZbfkqZOezEeDEzAdyZSgMOdHzPx0VrWZeRYyviRBwGdAPKiqyFHUbeHGr01KW1N9rZiZNWl3KDO3fv3wv3PruftHSjz9IUPaa1hahE0A5p22j1plU3IQDc1CuNSHlSe4L2yZ/j0fK4hs8AAV/y1mrzKLkxIvzIKw+01t6+eGZLPPizpKg8isYXgXwMBnoiUshnz9pnp+k8HHnME8CPhm+bsCpp5EGnsN8Xz0xAAn4EwRl7wkjLP3RQ/HkQMJqZOryn8x3f+1f75iSwDEDlwJpy4doEjVxtgHAAF5DloQH7hs5mlY4kcuSW2aR1rBAMZNn34UEZYFmFzgIdblvj5Oiu9gyitkNbI300Mk2tMbXeSlvTjMKYu3is2f7g/NupU17/5UepU6qjKk5uLiPHPO4U3KsCPW3ms88+m2n0Wl9vQvjGa68bKFMvUlyFM98680b4nyzDRIBlwNYMT7KGL+0EnIKHlBgt+cCTPBMP2nxgoV3zIy6HA6TkQpu3eRRqQJww+BnQNyF8/PHHyQ4fBhk/CCivmMTlGQT0Ii4xSH6u0/b6ERiXY+h0dD4b4ZrDTTZIjF2JZ2LebalA3y2bTYUsA1CApHWMPPFYv7Qvwuk0etBYaLx0BDavWM+XwqAwZnRaNhTQE0edk06n+AC4aFBUOCxAmvCiE6izs6n19dNfs7RZT9UmF3mj0/q+oDw/ezHLK8uQgAMmeR3SfJeRo2QzJXMI0KtOqB/qSW5m//ilp5mdsqEt0HbUfqRgsOZ95rXXrU2BSygUUiwTjzC7/pq2Qf0TjkZOndP2+LFKYWv7TqMnPvliQIAvcWmbaOK2dAPfL56ZwoC/2jVtmIakwQV/2iwzVwYm9RGjc5mUDOQ1COhFLDNnYv6HswyRGaAXG7vzpKEjKBW6tang6GDqnd5+mODMVoE+l8jm3UsDFO0jLolQd1Z/ccBvVWzsENbGIqHNIPP21YQAwPq4vk1Y1KjNpDbleShtRBMjpvgHs6nxnNRE5zTEFCdaUp4ODpd/5vg4j6Xl6OJOwToE6JMcYp2mOiHA1zPu2A718qXFje1CuGbgTjzfXmIi8PZtM3oXB4RWPiLhp59+arNLa3PxhTkGBeOrNOJLTjhLPJQmpuW1g0jlgW4w0CuSTJ/YcdpL+alAv/0a2QeAUtuQuX2pLJ/CPshx+VJtLsZSQL+5ZBdyUpuSuTBCHCDYOGX/Bg2d2SKzC5upZgyW4ZtFLToHAz2xfeLeXuS8wLMrfp9/V1ieVAX6XCKbd+8yQA1tJ0PpNi+9Q467LMfDXB6fbVeAXm1FZi4R+cvMw+VGA2dNXUeC8yUXjGsmxAAAIABJREFU6BbxEK9lzJWA3mfE25Vw7pe7RYdJWFe4/GWK3scv2SvQl6SyWb9dBaiu9uTb0GYlsR63XZXjeqXaXOxdAXpfor62pDCZPl5u76PpC8v5DHEPAnoSXTXhrnib8i8VsgJ9SSqb9dtHgOpqc5uVzHLc9lGOy5VwPepdA3q1odxcVMouevkrfu6W/7rmIKAfmojPJHbv9jx0FYL387SyM82xzQZHqDCZLihZK9AnUWzNsksApbYgk0J7e8m9NcEsyXiX5Lhk1o+EfFeA3rcnb5cQvJ+3E567FcebQ2g8/bL2wUDfl5E8LHeTKe+XH1PLw1UINip09El+Q8wK9EOktB7NrgGU2hem7H0lHELTF39TYbsmx02Va1N8dgXoKc+QNpPT5O4SH9HI3JTsPJ9BQO8z4O2ekexsLnDOk8fTopnrTChnSP25Ic6Wco45HYMj8sHsbLUHevhx1lUvZ+VpWKLZm5Lyq+ZmJbBrAEX74jSDnXvPjpux+cXb27w89cEHH7Ta5Walsjy3XZPj8iXYboxdAnqVFBzj/LrumpE/mMZLT/aSXn6sMxEdj2UQ0FMAtGQKZwAdD/DLzUsKb775pr3Ygh8vG0Cvh3Oi+BHGLwE950g/+MDO0OueCI4fAfLE4U1EvSjDWWpenOEqBb1MkC/rKL2q0UsS2zN3EaC4a4lZoF1HHDsaR9dob3RO8mxtdntiWZrzLspx6UJsMcIuAX1SXOP5d3DIK6woFLwPZIpupmysKqKU5qoMYrxhQB9C+IWAHk09XmOgC3/QxnmlnDcgeQBgvTrO3Q12cVm8ugBhqPLQ4BEM9PDEBNz1mUEuGdLbkrxBZq8Ox4zTQTiiVHoq0Jekslm/nZKxXniJN6wamNOgmmCKgvaEaJ/nzp3brCCW4OY7rey0Y68ULcFu1KQmn/hmqS+o5Iaft3uao7AD5mCXrttAuUDJAAuVL5lHkZ9FaQwG+lwbYklF2hFgzI1tKhim3RNxddaIeSXYD3ACestcvC+CO3Fo8IRpwOAmN9m5qQ1gp9NyvTGgj2BLz06BUCmDe+qn+iX7yHjXAIr8oSzQLpg+02ZN64ry5l4kKQ54+fIcV5V4oN+F/ByXHIplj/e5K09FGgUegwkGst+IwgoWsjwooFNeZR5D9lpJDgZ6OjWFUcYZuezazHjvs/9SFClwIRWgTEPmp3iEaTOWjseSDp2RDznQOXOgJx0ept8s6wDy/HwHMQL3V4HeCWMDVl93YleqV4Udh+nzyFd6AHs0Ln1V6jjy1Jem8tvXjvvijzlMsqGM+UVy+Clc5lHLwqcLuNPO8mWco87TovSWBnqNWGx6SaNH64YR90dICAA/Wjp0GgSa/zxIl0iRMRp5ElAT7HIzA/p4hTF2TYUYENJGW7x5jmUgpecLWoHeS2M7duruyj9/uB3mK3L1bYE2ZxdLrcjrqKLRVvnp8WXAL3eLbiomGKDHy8LbFb5ts5QmM0jyiHJRCt92nobyZ8BceE0xBWCHmeUTOjiAyyjGBioPUxgKy61s2FlW+fuzb1kYa1mAOY2ZMOwapeHDLXBsoiEoBg6/zsUNg/BC89dGG3GgFc9SQSvQl6Syul+pAe+yjMkvbZO2uusPeVQ+vZy9fdfLsKn8+TLL3rp9MiaksE2lO4SP0pTp44BnWnnw/rtkB58HAT2aPIVBS6JhcoqBT1rxAOAUFjAmnPu5/088Ykk4o96NGzfsY7hcHZo0mPhZLE7ewJNNWIBcl/zAz9J69MhGS2YOxCUNZgs8JcHvMghZpkfwR91oRreLxSFvAlDlz7cVb1f4Ns2u9Jj6k08f3mXfZv6Om7cvs88LCl0JRLvofdxN25WmTPEHRMHA0pPTlmi27adZx0Kgb2UknmbwflQEhVWhzHRXfKaNWHe2lM9otZ6SM/fT9bCtiPOOCvTzMlnXR3UrPnxDgNkXjWjnnibY/tG1a7PvduZ5z91Hlf+sOdvGHXeKCySOK19HVf5F6egTjZ6OGb0N2E54uyYn9g9THfrM74gd5RnFZ3mgdwVA6JxkAOhbTwnofWVF4lRpLowg74Qm0eXxWonOHBXoC0LZtFcTrPHo6OKm2S/Fzx2vtHhNCJ9//vnsmK5vSI5pqU254I1byUaeFTogR48JyNv3xjOw4wxVfpnKLgCKQqGXMOWPmdP6sG3a83TJo+1PFup4m/kYyps2RltbDuiHcj9Gugr0RyN8lu/QZuwNwUKSeYcokOyHV0TpVcuTAzzAjuwAsH//9PZ+yOAYc8kJPt56zkdK5Dq3MlDKZ6y/PH6JdFR+8U1dlr8oewX6UdXu9gvjAQ9NAcCy174donma7edouyl4nJCdFJcto9HHt8pPffXV2akgJ7PtlmJ/uetAB2DPwQzJXeaikiFiDQg+Dn6jFD/fSH72PL1rhMx4KtAvaik1vFcCTF05hcWP2RRu9m3u/f6umbj3+cfSJB+axlTZvLmobMgCGj72jHbFwKjDBL2CrYFJAuwF8a6N3qdBwVgkd4Vbvd2/b/WnusCUXXT7blIe5ML7RigSDIx+yasCfWpO1dInAa8Nic77ceyVE1EcbeRlOjaAxvDjRBlXfPC2t/8NLaPokA0zn53cwFaF7rjJC3DXf/mRfVRbcl2mjVF/Pzj/tr3bw74iV7UsE3/XabkqBmWrtJxagX7HG/cuZM8DuvJT8iOsy1/x9s1EU+KFvaQhjXK+v2+1Msvv0m3toLGZALOqVJ/7WfSlc12BfmmRTTvC0p1rBOLiKm2mxADE7373uzSYDcF8yUvmCMRx7EVYRZacjGH55/Tp0+H27XFtgiOPkkx8+6xAf+zNdn8yoMbUZe5PSVbI6UFjb2W3tEHfk3pY5vLqIa1BAyUgmS4kjxvgepvfvnsxsN4W8t5BAi8Xb69Av4OVtWtZosH4RkP+crfPc1+Yp9sHO5igUxsc02CDi7VQAJ8NvHWeMclpHTksioucVpUVbx9z1Qp3Y43xmI2Xi7fnMq1An0ukuqsEBkiA6T/LAGyyAv55J8vdA1hWklUkkGnnkjsbkpxyOn/+fHj69OkqnEcVpwL9qKqzFmbbEhCQkA5nlDmJwbIAm7Y8hHuaPD8Kk5mHV3e/BEpXJSiGybSZ3YzLJYycQOHJZZ27FX/MZgX6MdduLdvaEiiBQsuvCbYswFIO2n3f8kAr3to5mxYDZOflJ7sUetx/evS5afFo8mj0oumS1KLwrnj76F+Bfh9rreZ5tyTQBPvSEO8QADJccZA/HlS8Paer7nkJSF6Y+nkq/Lg1lxeq8kvQPJ23i6f3G7O9Av2Ya7eWbeMSyAHCa5Ro8ywXDAGcnM/GMzoRhvqUHwOsrjhX0btk3OWveGM0K9CPsVZrmTYugS5wENCnBOOlZQCPB5+u+CletfRKAPnlMrx+/XrgA0XaEBeDEm0eN3cr7ljNCvRjrdlaro1IYBlAaNHGTUG0e5YV/Nq9LpraSAYnwIRrI9LVEQeNnXLSJrgdcY2jLfL3dZC7JSpPI7+xmxXox17DtXzblYADmVJCrNej2QNMLDNwFJNjmfpCWylO9TuUAAB/9uxZu42RwZKvm3EuXlr83IyqcMrmkNt0bWsDfUnQiHMTo+YqPFgjvXJl/oPLq/BSHJmbKtd0m9s0S87r9wATl2jx4XK0fH6Alh7fxuTXZ3r6Lrvi+3D5rWt28ezy9+m1aDRQtghmDoJ++t5F+7ARl5BxKRkgP7YrDHzRt2VfG+jzjPlK9PacblV3iaf50SridLnr/KxPs8SnFT5j572qvUpgdQk0wcAewNKNmAB/voFYSkBtVWaJxvuJTmYpzPsNtS/ip3CZ4uvd3q7wkgndzy9/YCAveWHyGcv6LC+BjQL90EpclM2cD275sb7Jh8K5Z1p3hLNOxzW5ALyuEsVud0572vv3LW5a7+vKSBw0/LpqTqr8eP+Snw+v9ulKQN/ZBegF9phoqLo3fEj7EY1ML1H85C9T4XI/e/Ys9R3ff7ruY1c/wyQuj3iJd8nMaXK34kSFvrWHQRhXOktW3uTWyS5e4lnNeQlsFOjn2bcbRbGCHKh6wGaqC2gzXWNnXZ0Du78XHBrupqYBcIbW/xRf91B/77vnAj80A/HjA834QcvgwI98DNG0rLyppR6WvljOw+Bqm6AEaE8Xf/yeAbvangCMNfwE9j2yKbar2H8YSFBsAEjaMB/WVvtn5iCtGDvtXX0Imr6f6IhDXO7mhxd2wojLzZ6kqQ+C2MVhB4cfjla+ZfoiFrqP9T/JSPnG5A1ktHyeEi/Pt9rbEtgI0OdCX+Rmg4pGAZjzkglvFb5y4mQ4++03zU2jAbABXDSJ0ikFpZGbwTUwX1TReT/sdEBmCKyXkq4GGAYAGptuvSM/rA0qL138xJ/wRTSireZ0JPD8i2cGxigmtHnaGOaFH75jQljUZpiN0i9oj/BAySE+MwNAVwoPl3ip/5RmsIvS8TVSooUnfZPBhVNFfEGLwcX3ZwYwfQyDvBDH88Keu8EGBhENgmdee936pH1MozQq+IxWe6cE1gb6vKLylNBUWFahYdIo2YQCPGkAOXj6uOIrkzBvL9HKD7ouWtEkM2pE+TKN4tPwpCXRkehQDEypAd+f3XGS+FVLlcBACbAUQtsCEOkXFy9etJi+/dL+AG0AHNCDjn6EQoI/YOsBVO12SBaG0A6h6UqLvEmho++Qd33EhcFB4K00KAfhAD2zH3DD+iWTg2Ye5Ut+XXmZuv/aQC8BJqHHF0YAcVUuDZnrQtGa0WhUeTm4ipdM8ZQp/5IpGpl9ND5MOO/95uwiiiafNKMBo8EwaAH+dEQ+c0aYnr68iKaa05KA2oRMlZ7lDsBPigXtCYUC4KOdAeqE+b6T8xAvb5ZoSn4+TsleilPyU9xWGP0mzrQ1cKnvUEbKqgHh9m8/PSyjmBXMFv9CePVqS2BjQP/o0SPTMmiYAB/rdgbsz5+3UxzoUkXKJJrsMgeyMrJV4liapNuXUBMM3GmoNFi0FgY23trTMk9f9Bo2bgn4duftKjVti3YCyEuzpx1J4y3FIS535Oftsos2pVXQihU21OxKo+SPH/lM9/kXEuEKYcr6ox++Y8s1yOCjjz5KVwvnZSywqF4DJGBAX6qkAXFtykglodUyMjOdHLyJOSSBPaVhyonGwtopa5YMAmkms6dlqtkeJoG5vuSQqgXOTbB2wayXdgK4s4zD8sVUH8qODJAFMkE2uOdGNAnIyVZe1SxLoKjRtxqrE6asgDlAhvZKpdiLHwospzMZ3yS7+DUircEyy2H5yi/tIJREPxkJjbegpbpUt1AYSzRs+qMY/d3ZtwzI7MSNCMcrnuEl6+g7dponckGefSKTvIcnOm7KItBT5FxQuNlhZyOIRsoaPILP6cYtrnLpchm03LTGuG8hLR/TGm1sqaKXWU6l+u6DBPI6FBhR31KOMOlL9RkggSaEh398YLLjJA6yq8rSALllJHNAnzdU6FlHQ3MH4H/x4ZXw1+cvjI2nlV1mls7onb7cXXYAnw7P/gWzIZa68qm6jzt6oY2ogF31hraOBs9SBCdJPEiZDpCtm3fxGZGoOouSlx23Bkoi+cGS8/R698Az9Dy83dNM0d5aoy8JBs0dUEKwi96MK8WfmlAHyeCgsUbLGuTXT38tpJMGUxPWiMqrepdJ0VjSZMmOfRqbwbnyGsh7twN8z8ORjNrqy+ztvtDyZ7DkvQNenrxz544nSXbRJo+JW5JGL8HIZB2eW+PYBbfzrhyPypZ0/G664k1ZnpKBzJIs8jBAHrBnxqSZUi7nEp/qt3sSUN1yiRlAxAyYl+zk77VTy33Wp0SnkuVu+Y/JzMsot0xT6Z3gbEM7DooMpHonB5nrSXHlUc2QgN7LQpoI2jxPEpwTOH7O6aNP0p5k5OTl/bxQWv5NsBM5AAODqp2V9sTVvlcS4Jgx4MPAzdJCq65d29C5chUup5P/FM2WLACZwgtTokHGyBqZp/cMpii0BWVuLd1AyykRNBGdpJFAdTTM5K5pZgHpRb8g3dEEexEsW3bRmxlv3mSqX8F+P5sHs2DqzxSkCFB9JWn1pYxQbSPzHqWzq6z4+/6VtPs4EzJhRDn/6sbHhlu2+uAH1FFKbPlCzYA+xuO8Nw1VZ+G7KmD5ZLpjtCqygyzWZUfovLc1EA1GMXiZsnTRdvnP52B5H/GmDhho9Xp4zkl0MvPw6j5aCaj9Ul+8uo+ipLqRWcqRD1vUvlu0Wbsu8e7y83xKND7c23PaPGyR28fPaX2Ytw+l83GkpKIo9cXvC/P8xmRPSzfSRralTZaEW/LzwlW4OgJu+Xk6by+Fy0+mpx9qV1yZPl7Jz4f32X1c2dVgdapA/uKTu+Vfze1IoCRv78ebrQzO1JstyRQ0Sk+vXOZ+3u3topfZFSZ/maL3pg/zdk+zDfuitBaF+zx10jaHKxL55rfid8YVwUjNL1FwNgFZ4/KfN9uGQODZ4it1qLAGl8s7bfx6WsXPOlYrjcio5OfTULhMHzbUvmpc4rXiNsHOC7P2KH+ZQ/NS6TYvgbl6iklwqoajsn1ryZAW69C14SE5LvIoRMzpiu6Ydh5WYJe8htCKRqYi5+5F/grvM+d4xiVQ3vfxzxydD5yA3TR6zvly1C9/lmyDefSi+w/3P7MTCZwrRgvixr5lNlG47vQ/nv7FePOmqR+clGBfpUJ/+fJlkZrZR98idA4fx9shyd0u2mAr2jyDLzcA+ke8Zfqwat+8BBbJGS2eevKLyX1xfJjuh+rKtaftopH/MrTE0ayRk3VdT84zd3fFw592K62a/nbr1q0+8tRnutLI/bvc5t8Ee+uYZVA9Ob38p2J+iRd2AFxVii940qK95xp27oAhLW7iIz0Ano0r/FqbKPGmu5SUG3E40w/Y89BYuUueSlRFykxxMwv0pcHBk4nHIr6i83G9fVG4p52zx2lorplAtxbfuYSqx1AJlOQOyA8BlFJcwDBXsEQnU3nrc+dhxCn5iReDkvKtd2NSWMHSxavLH/70U97+hQaQv3v3boHzYi+lITOPgX8pDIzggsX8KdHmNGN0f4lGyt3qWlvcZiEBdFvHBLjdzjlgrwbPwMMAwEBw48aN2QsRcbmGfQS+NMMOOw30T5GOhkXFogXDn4EEO0tS2D/55JNULF620D4E/Ohs/IhvWsjT2TXDNAjdo28nkCIH8kc8eMB70zdUthpiE2xzvDQIpwJVy7FJgHYgbb5Vbx05gsbT0d5Y9skf0dB+ac/MuNH+/aP2h9Li367GzktEV69eTYcqfDx4A8AAMRcSSuGiHStd7GrXpENfon8oH6KDL/2JfgCOWD6aYEqb+BMXHrxdr3jIjT5P2fy7I6RBX2ZgoO/n34dVfJl5ubwbPgB9LrcWzYQcX+LuCO5R3+ZDxdCoWa7xAK80aSyE6XNodB4ufKKxXrhwwT5ZBi2NGqDnVXIaIp8yo8E0/3lgDZfBgrVSOg92fjTOt956y/jAA3rTkmODunbtmtGwDEQeJAvkwrl2DUK4NaAof3wRSx1CZdm0yTq91xg3zb/yW04CHmQAI1ubH8DCx5OdPlGascEOYKSd0e5og9itbTbB3qQGxPAnHAUKQKV90mbpH4qDmT9X/vlD6y8/jXfukAejiwoYfYa+x0Mfoi/Ck7fjScs+CBK/zka+6DvIgRN7DBy0V4CevOGmP8KT/JEOecdNOHbd7Eoc9WHC4NfVvyRDmXkZcZOvUvn74pT4jMHvS4AlDY5HAkhLNk7rXrewjN40Qipb6SSebqrHqE6FA/72NCF88/Uz9oYhbi42silhCAb0akDEIQ340+hx610A43nypLGDnsYEnT2YTbD7Z2jM2IlHA7bOE5eRcKOZSBsyLTvymCtPZL2OIZ401FJjhbdo1kmnxl1dAqw9d9VNF1dfZywjWlucNcFWFNoiYGftNN6RhCJCu2PwB8QUhkatmSrt3rTkeJGe+kSLeexvf4gaNHmwcsS+kNpcMwN69QuUNADd8nXQWN5JW/lghmBr8ZG/NHQNJOSd/KW+Ew8dqJyEmVIT8wFeLFrbb5Urc1B2ZFWfEBLQR8yaVdoWJMNgwghtjSLyT2mGYNo0DYMfwO6ff3jnQtIwPNDTQAFu+OBvDStGxK0pLWnTiHiuXLnSni43s5GfRiWtCJ7kVR8/RiPhjDQdgDTgvY3Hg4D4k6YNZgVgL9ErXjU3KwHJWibcaX+6a8W35VYbd+feievj0y4F9Hlujfentw+941IEigaKCO0T5QPgtXYflTLiMSAAcICwtelDLjNbc6gw4UEctTHcCehDONTGIw/ClGf6lJREgn3ZCCNf+Ik/blP2Ii9k9ptPboa3337b6JitW1kiL+KRnpdnjNoyfLo+AFlZXqNsuuh8nLHaDeg1FdtmITWam6buegXCp7MwJaRCqWg+zO0fLdHg5xtDlz90HoxpjMSDPx8x9tNlNAibPsYPPpAfGhfLMuSFxoKJ9kPecXvePp+bsqtBYtKRrbFnzEWTeVfnhiXg5eztJAM4+rrJw/Os+HDstEtri7E/+HAAin7puooBuwGhu68dbTgtp8TZJwcbyBeg2gJWDToFoKdfKH3iCviljass+Nu+QtTaPdBz34zxyDR6ATZ5t/xE4IXnv928NQPjLE+EKV5LCNmAonwp7zLxZ4ZB/8nj53HkHrP5JSrVhOFK6YXlvNezOs1ZU0sqAI2DI17qMAJSm96FWTjAr1M5Hui/991zqUECvtYJYi4FxpSFKbK54xohAwRpSzNiScYaQ+xV8PHrnoQxq6BR3/v93dmgsZ40BsemY/hyDY5YCbciAd832DOypYFsOdLTeLsyJD/apYFmBGiF094AcL/swAbmyZMnbZZ66dKl2RJHjActAEwfMQ2WdnzQmGJy4qWXE9tkaQ4VJvJCOn4pKAGsB9sYmX5KuOIBprbvFvu3gJVZBX2ZsmiwoE/jn/pbCPYJQdb+ofN9m+RIRwOOZKYyLHKTJ+RiS0uKFM08bhY8SueXEDoaLYLm8RqEt2+i9CylcBc7IEoDpyKx03BJmAqgcVDhAByNCvMnce2cPDBdxe/BgwcWHxriGdDfP/yYg4CeOAA0U0nooP8BJx0OGkubZSLlhfyooZJP0oL+/PnzM00khPDZZ5+FYufZhIAybYWNqHy5a0PJVDZrSEBA8fjx40OFoMBPdJjeLlLapfoCYEj7O3funJ0UQQFiE1RtkhtOb/7rJ9ZuUVCIBzjTXrFzuoQ06Bu059R3Lr6f0la6mPQHA+IQbOaAG2AkPdIlPg9ugS3upNGH2eka0iYeP9qqlDgwhbxo8GHGQB9n3Zw45Ftp6bSO8iRZqRxyk763WwazvxTeBEuHTe3Sk+hKgSP0sxemADTbtNky0Eu4aCekxxW90tw1wtD4AWmWSWjQ0CoM+eOPhksFMkhpVx4/rclDRyNWehzFVKOmc2p2gEaFP1q6TAuLGhH8uWbW54E0SEu8120Tno+3w1cdCHselrvXzUeN3y2BPlkDVgaKK2hFLHXQ7mhPtHvaIz/fjgljCceOGro06Df0j7zdUwrOrLMc6tst/pRDLPJ48CMd2j929St44JYM6H8oWXoYkMgHccm36IhDGvCBh/gRj75LvyLcP8jAl11pe5qSXWmmsIPGNHlbFoueczSJeBoWA3oEDth7IVP8bQink2fU6AX0y4jfeBI/RpK7xUOBVrBWSMvh8+ftYl7k3eKwusOnR4dD8/EdBM6eZvWUasxlJZDLXW76DposACi/obxL9CW/Pn45vXfLrlN0uFM3yJab8jQUV/64xQc/8RGdTE8v+yIzjyv63D93iy43mVXQdzSQDI2X8xmTO11qxjodd6KnGtxwKYcIm8bDKM6UTfQyyU6X3bLqgL6Y9RhuDVSt1BF63nlacqdoyeIYrGHN02YGwtTX1j/X4Fujbl4CeV2RAksoaPbqO9DkdLm7L2fL0HbxOTg4mAWp3ceN2CFNtyt94irMgz4Jyb8rPz7c25elXxg37gnYEmwX8wn6G9BTgYDL38cXI5CDNYghrWKA0FQ5MhdGien65BVX5hwPAb3b0W/ReJ6ecSTq5OuYEM2iFuI7spWt5IFZFZvTLNsIOMRQecSUXWHV3I4EuuQsfzPji0pWZ0tmI29K4juEzSDaLIEUp6uf9CSsskLi2YqnTAvXCZ8OfqKFT7JrMBoYt8SaOmCPoXistBRhIn5Jo6e8gD0bKAlkmtCarnmZqHK8n+wKkyn/qZl95S+F0Ti/8+ZZ+7V60tQEt2flpS4ZoOk7bOLrMTD0iOhATTTeLLUJHz4F+yIZtMKl3EW5glvUQb4EPQW5LSpjC+ghVoNlKWfRqNgS+qKURhw+RA6ikYk4vJ01+TTIRln58BGLbzRFo79QhyzjqO94jVUF7avXvjDFH6tZKrv383ZkoDGUKxS4r8tA/otnYxXPWuWaLd1kUyXAHqBnnVinVUiFdTkJN081r4Q8fEpuL4uWvNx56UTTBDshwBftOb2BfwqbktD2tKyqX9UbAK+jufQdv5a9TL0uQ7unokvZXlRWyTZFiBZkj4zBKfDK7sxxRKob5zVZa9LoJWyZSITNQJ15ZVlHj6eRX8kcSleKOwa/ReXnRA0vb7UGVFpnbaF7W/1W53Hwpu/wMpD6Tld7SBunsdRddHsrlAEZz8ssmeT+YoUyqncI7NBC7TMSTdGcA3qovHABI6aiHCHzFw6JRmaR+wQ8VX6ZKnJyuwYoDKfj8wIJ7wvQWGm0iT6Tv/hVc7cl4OtPOaXv/OiH71jfKb2hKbpSXIVN1fQy8XbkAQ4xiKIk6fhxTpO7pypHlTsBvTy6TM6konnq5SovSG/vij95/3jdA28W0kg5QkojdeOAiUiDweTltScCWNj24/1NrB+r78xVeh3cW7VdlCnXisd7qc689vpsSdl1HsWR2WJYHaG4Rt8nF95opdGi4bOmzBtwU2+4alwyc/nWDejMAAASLUlEQVTxbgAnAtDgdREbL4bpxyDKj/XG/O3AnFd1754EVO8yyaG3W47j6//qOwz4Xa/n714Jjy9HzH7BGQZJfmlVwWVpTtYurFpnErCPgw8VhhtADZj4cAH3U7ARoisU4CXByxzKfwx0KjPLMVx6xXFJNHiA3jR4LlmLbyID/F9+6YQNANzv88pLL9s9P/gjV01LxyCXKZZBbSEvO/XPJXnUMx/W4TqA+rQlgEyQDTJi+csfCmlTVtcQCQxeuuliBqBdv37dtHwAjY8U/Pud36WvxiheV6NX+CrmKjy3GYfZDRoHAx/ATWfOP/WmcqKpcDc+DZkf9H/zX15OwI/mx+MHV8VdxVyl3KukU+MMkwD1wUDORiJ1LWWAe2NU6XmdLXLnKXt67HLLzOm73CV6+cnsijvY/6CxO3N06SHaO7KRcjSYTyUsSmBtoBdXKhygo3K4y53rSNnExW3XkmZv4m2sgSgDA82h6Q6lQztjQ5XOqg8+8FUcBkA9OS/v5vw8chLYo9VjZ2mMQZOObzcCFuRngwB/vDji3iqMXsILZaOaOyIBX1eWpfidVZZzeKtTs2Q+VWh9x1XoXFw3g1bxRIPb270791fcRSbxSnFzv063KwttnzKiGP3NyVcMN7hOIpXZ5T/ntyifNbwtgY0Ava8E2bV0wfIOVwFzThxAozFzQ5+OnLWzM3OJh8Jw534KG2LmcXN3Lw/XMP/j6V8MeGmMbKYC7AA8bm7vM0COzFI0B8B96bD0deqrr5pmj3bPzICTGiz9APx0BgbNfF13mbKIVmZffmrYdiXQWQfxs4GaGaLp86P+WatGsegaweHp+Zqdhqj3N1KjdH6LiunjeHvkmafn3S3WTbBbYmnDlAVFRuWirPntnMQVL5ktftWxlAQ2AvRKsVQh1jbiNJUKRfvlgyGAFwOAwB+goxHbG4W+QYl5NJWGzCx4ztlF1+UPA6aLDEYsSenCKjVM3ZGNpq23H/NE+3grTCZxsfNjoGAtH8D3nZlBk1mCOgiDC3JEI1L8PA+zgENfpSfzMKTajlICJfmX/Kz+6Qfxoj+WAPWKPxo/SxssDQL+XPdta9i+38i+hcK18qt0nEleyBN5I4+0V/KMSRkoCwcU7FG8AflspTuAvpIcSmCjQH/IdpiNygYwaRDcnAmI0iDQlFn+YRCgYXDm3DdoBgR+XA075KGBkFY65XL/vgEnX7r/l9gYOQ3DwMMAxPdhcf/jxfdtBkLD1caoGlsyswzI33fUjCQ5E230kdtr7fQDPRYev4zFizjkl0GBdc008BSWeBRfptKRu5rbl8CyMvf03m45jUc2UZyYIdNvtFyKloxbChRtHGBV28fsm013SQJlA+VHfODJHhPpkxZpkrb6Lm7CyGPfLKQrvT7/OXn0Edcwk8CRAH1eMbm7VBdqVEz1AHkaDfdZ0KjUsNBqAOZFP5ZCAEXAmx8zCkD8Fx/OGiqNETBPa4Ogq6a7hcwp/zJzki5/0flwb8/DPcgrLDdtnfOj6621XZZ8/FS4lEbOp7q3L4FiPcRKVhim7D5HXf6eBjsKiT48AhDTxlk+9W2fZVTb/PcHAeKBAPmXTPHAhCdKEmnwkRPSlDLk8+TL4u2eptNe6ABL8+hkPq2AtYF+oeCpLG7B1P3YM2dR4RUvmaqK3C3/dUzx1P093pRd7Uy0q6a3bPwSfcmP/CiP2G2JJ576YamJ9f20xBPrYdUy1HirS6Cr7nKOosOUvYsm98ft43i7aOUnU/4y0f755U8Xveh8uLeXwvv8FDbELKUzJN5UadYG+lxwqoBkxsvQcjqP9KKFxtvn4mzIY1tpbIKveMhcp8icRQbomfkwrWYZjCUeBoT6HI0EhtTjEJpibv0oXyTo9iylycyZ30afNfK4KB+lMiyKM9XwjQP9VAW56+Vmj4KjbKzlpuN78Zzy0Lwv07GWoR2afqXbrgS2AvTbzXLlPlACFegHCmoMZAJfTguxL8EpHjaeWeJhc/fB//fH9lrQGApdyzBYAhXoB4tq7wgr0O9dla2WYYG8j21+TbB3ADhGyqV1LPHwohbvBZSOj5b4wLPL36dX7bstgQr0u10/6+SuAv060tuTuAJhmaVsK+zhHx/Yi1qceeaoHMde7UUtd3kdtNqw9rzEQ6YPq/bdl0AF+t2vo1VzWIF+Vcntabw+EPZh2DkupyWeEy+9bC+8pFM8rvw+nrxLfgqr5m5KoAL9btbLJnJVgX4TUtwDHiXgHeLnaVjO0WfyWNvnLDVnqF+8eFGXbvagDSzKYgX6RRLa3/AK9Ptbd4NyDlB7sCaSdxeP18uTy9LyVPA4aMKfHn1uL7GdPTt7vZ2X2XhRK32fIHtDN2dT3bsngQr0u1cnm8pRBfpNSXJH+eRA70G+L8vC+pxG8VP4wezWUi3x6KI3TvHYm8Y5g+reWQlUoN/Zqlk7YxXo1xZhZZBLgCUeXs7iRS3e0GW5x5/i0WCRx5O/zDzcu4fQePpqL0vAZmz2F2yGxlUj9hw087O5MovquwcSqEC/B5W0y1kU4MpMeY0qP1o94ME962zocnafm0ofP35spGlmkCLOLHP8YniXfxa9tTyVh1V3WwKcrGImxv02/HihjqW4+oxHAhXox1OXO1kSATMmt3Le/NdPDOy1xMNyAUc6vfqY4rgSyU9e3t1lF201eyTQBNtb4WJAf5EZR2p9nfRwqEF7IIEK9HtQSfuWxUHAG69b/smP3wvfOvOG3S6qu3h8eUu8vJ+nlX1RuOiqOZMAsysP8oB+ui++CmkUEqhAP4pqPP5CDAXXEh1+jx49sgu1eFELoPnvF94N/3bz1uwUD+vFHV/qkj8S8Pbjl8h+5YDBVtd9c41xfcYlgQr046rPvSsNb9jmDx+U4RQPa8esF7O+zzp/l5bpr8DOeVX3MAnwToS0emZZ9RmXBCrQj6s+j600uTadu5WxIf7QpE3aJthn6fSiFvfxpCUeN0aIr0zS83alX82CBJpgG+TS6BlkC+NvIWL12hcJVKDfl5ra0Xw6rLUcDgbXhOSHBVPc3ITC/JpgZ/PZwNV3SC9cuGCfyit93eiQc7V1ScDqr5l9tIZTUWySmyz5WFBF+y6x7Z1/Bfq9q7KaYSQA8Pu7eFjiAfxZ4vEvagmsNHjk0iuMNzOSGNAVL+ez9+4mmPx496Hi+97X5lwBKtDPiaR67LoEBL4yLb/xFA/LOmdee92uXE5LPB3f/zVttlBYgb/ClY7MQpROL8WR2Ul43AFNsG8ScGmdfS/5uPMT0y/JreS3I9nd2WxUoN/ZqqkZ65NAb2d3Szx8VIW1Z14A4gw/Z/nzp49XX1jOp8td4sGdQIAqH6onf2yEajNUa+W5W/7bNL9y8pV0+mab6Yh3XkYvB2SDjOz+pC7hVv9BEqhAP0hMlWhXJFACzZLf4W5uMHC/deuWvailJR7W+f0ST7F8UumLgcM8yVueP5aXyAczjvv379vtnzm3PE4evmm30pO5af59/EppciMqskFGfAyHu5NKdH18a9ihBCrQH8qi2nZYAos6uQ9v2fMyHTT2gXQARC9qcaKHj6ZrcNBxTfh4XrDK3Tn73C16maTLXsLnDx8tXCJRnJznttxHnR7lWJhmE0yjR2bITs/CeCKspkmgAn1tCHsjgVLnlp/MvsKUaABctHvO6nPihLP73MWTrlvuY7hkGMcWOR5a+kTjkqy2Qi75yNxKIqswbYLJjI1iu5oh8ti5fK5StiOKU4H+iARdk1ldAqt06DxO7i7lhlM8gLxe1Gqd4nHLOEN4zfFvgt3mef/uvZ0+1bJS2eYKuwWPJgRkx22o9VTQ8vKtQL+8zGqMI5TAIuCxEzLxeoRNZ+v27du2XIAmyY+PpvNFLZ5F+VJeND58du++8dDyEPEVJtrjNIeW56jz2JKRHyyPOiN7nl4F+j2vwJr9o5EA1y9cvXr4ohbXLbMU0/WiVg6cLDkMXWNOcR3KJb9CcfMwuWX6KCU/H57bRS8zD8fdFyb6Phof5u2K601O4bDUVp/lJFCBfjl5VeqJSwAg4i6e67/8yI5sckyQJR5/ikdglXC6mX3UQwCl8JIoCeN37969wCzAP33xRNdH0xdG/EXhSqNkdsXt8i/xGOLHiSXJcQh9pZlJoAJ9bQlVAgMlUAItNlY5sYO2zjFAlniwp1M88M6A3rzcclOJL7MHQE2PaGR2+efhopO5KFx03lQcmSks+y4w4aKRmWgHDCSlOD4+9l9cvVaBPhfKAHcF+gFCqiTTloAAqGTKzyQUX9RieQEtn1M8vKjFEg/r+2iiLfqCWBV+5Z8/7KQXDe8BcL2zHvnzZiuzgfx0D+Gff/753HJTipcYBbspdO7lsnj6hdmGPRHoLf5BY5ulzHZamw9xWsOZ+PQ0wY6Xdt1GmugKlqrRF4QywKsC/QAhVZIqgU4JRCDLwRI3QMnaPOv5vCDVt+Tg42NHc5VG78PIB0dCGUj8TwDLoMLJlLfPnbcZBjyIz4DAjOP8d8/ZEU/CeXLegC903zv/ts1OoBMNbxYThh8zF04o8TB7IU144095BfYMdsxwTp48aXscDD5nv/2mHWflSCtleP78ufFZ9Ec+kGGfHBfxmGp4Bfqp1nwt98oSAHAEfjDxds80+TfBwEmg62lKduL1ARpAm8CumS1nAMxo8gCure0fzPYSAF9AF/Bl8DAAPmhspqHZAOnpxwzEBhgGsCbYUVMGFn7w1vsFzCZwA9KYdmw0Fsbnjz0M5fX5F88sH/948f3Zy2JRLsx2ePSiWkkm+EkuQ+XYxWeK/hXop1jrtcyDJQC48OSmGEQ8nL/SVwEQHswDt/iJT24CZgLIVlgTbHaQ7n+Jy0XMGAToaNUsH6Uz+/G7sKe++mraP8iXdZQGMxC0du0z/PX5C+OLPwBuA4WIOdt+3x0bjf6JNgS7N4d8qLzkk4+cUDb2IbS3kVi6vQv5ebNTLp6o2uckUIF+TiTVo0pg8xIQQAnwFqUAEHqgT/EOGlv794CLVs3SiPnFj4igwQPYZ8+ena3VN8E0fYCVgYCw4hp5pEPLFh3a+5UrV+aBPgQ7HaQBgLGNa6F/d/vOjDYCPTMM8s9Pd/xQNnjm5eySi8o/lL6Lz1T9K9BPteZruY9UAssCVE4voMM8ffq0ganAnhe73njjDSvP5cuXW2vegDUaNWv3aRO1CYH7fRh88ofL32zpJ85IGBjIC+vwrKdrMMHEDW/W4VmWURizCVuOaWYavYCetMiPre1H/gwiH1+/0cqGytryjA7yUsp3ibb6HUqgAv2hLKqtSmBrEvDAXVqLzsGN9XStdWs2AA/AVBuumN5OGGv1aPOAK0sorJ8/+fNjW59Hu2dQQONmGceOgGbLUnopjDDo0PwxWX4C2OENuGPyI833/sePbXOVOOSRNAFwwtDg7/3+rsmVMsKLcPKNnY1ZK9dAyXs5DoxSyUIIFehrM6gSOAIJ5ACVA3ueBcBRcbwJePIDbNGcGQSwyx/N+lc3Pg6Xf3bJ4mstn/Ru3rwZ0PhZMjHt/qC9qUweoEPj5lpg6FiDV165Ovj69evh4sWLZvrTMswELl26ZOvu/m1h8p4f0yS/DGTQaxDJy9/lhl/V6Luk0+1fgb5bNjWkSmBjElgJoJrDTWAyIsDty1SJxvthz93i5/3l582+8M4wBqa+J3vpqo+UMA16i+hqeFsCFejb8qiuKoGNSwAQ9ADVBYryl+kzIr9kzhR7T9IC8FbAig6lVYpeCsNP/rlZ4jHEL+ez0oA5JKGR01SgH3kF1+LthgQAKJZTNvUIAMVPbpnyx1zk58O93fPos+dx+tx5WM63L5wwLVfl8aq7XwIV6PvlU0OrBNaWAADF5qidWlmRGzxyEMzdnrXCZCosdy/yz8N9fG/P6eQeasJL/GSW4rJ5a+v6pcDq1ymBCvSdoqkBVQIblEB8azUdcVyCtQc+2WUuwWYQkMJvFd7L5EO0pXTkJ1O0mLzJy4kdO8rpA6p9oQQq0C8UUSWoEtiMBFi+Qavveit1M6mMlEs8t48M67O8BCrQLy+zGqNKYDUJRLDi/DlHE0ta62qMxx0LWfHili19uVM8VX7D670C/XBZVcoqgbUloIu99IaoP4su5lMEsFKZkQ1n+pEVL49x747oZEpm1eyXQAX6fvnU0CqBjUkggVMzu9oXzZ7bHfPfl0+cnPPLacbm7iozMuItWl4IS/LbWI1Mh9H/D6Zgyn2uucMMAAAAAElFTkSuQmCC)\n",
        "\n",
        "- **Layers** :\n",
        "\n",
        "Layer is a data processing module that takes as input one or more tensors and that outputs one or more tensors. Some layers are stateless, but more frequently layers have a state: the layer's weights ( one or several tensors learned with optimization algorithm like SGD, which together contains network knowledge)\n",
        "\n",
        "- Two ways to define model :\n",
        "\n",
        "1. Sequential\n",
        "\n",
        "2. Functional\n",
        "\n",
        "**Sequential**\n",
        "\n",
        "```\n",
        "from keras import models\n",
        "from keras imort layers\n",
        "model=models.Sequential()\n",
        "model.add(layers.Dense(32,activation='relu',input_shape=(784,)))\n",
        "model.add(layers.Dense(10,activation='softmax')\n",
        "```\n",
        "\n",
        "**Functional**\n",
        "\n",
        "```\n",
        "input=layers.Input(shape=(784,))\n",
        "x=layers.Dense(32,activation='relu')(input)\n",
        "output=layers.Dense(10,activation='softmax')(x)\n",
        "model=models.Model(inputs=input,outputs=output)\n",
        "```\n",
        "\n",
        "\n"
      ]
    },
    {
      "cell_type": "code",
      "metadata": {
        "id": "JpNohzztAx30",
        "colab_type": "code",
        "colab": {}
      },
      "source": [
        ""
      ],
      "execution_count": null,
      "outputs": []
    },
    {
      "cell_type": "code",
      "metadata": {
        "id": "LslMzUHu3Woq",
        "colab_type": "code",
        "colab": {}
      },
      "source": [
        ""
      ],
      "execution_count": null,
      "outputs": []
    }
  ]
}